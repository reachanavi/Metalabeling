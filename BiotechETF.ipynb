{
  "nbformat": 4,
  "nbformat_minor": 0,
  "metadata": {
    "colab": {
      "provenance": []
    },
    "kernelspec": {
      "name": "python3",
      "display_name": "Python 3"
    },
    "language_info": {
      "name": "python"
    }
  },
  "cells": [
    {
      "cell_type": "code",
      "source": [
        "# pip install yfinance"
      ],
      "metadata": {
        "id": "hRPCYYinVK5t"
      },
      "execution_count": null,
      "outputs": []
    },
    {
      "cell_type": "code",
      "execution_count": null,
      "metadata": {
        "id": "3UAQ7MhJU7II"
      },
      "outputs": [],
      "source": [
        "import yfinance as yf\n",
        "import pandas as pd\n",
        "import numpy as np\n"
      ]
    },
    {
      "cell_type": "markdown",
      "source": [
        "# Getting Data and Preprocessing"
      ],
      "metadata": {
        "id": "UjnpMQoaSy3e"
      }
    },
    {
      "cell_type": "code",
      "source": [
        "#Getting BBH Data\n",
        "target = 'BBH'\n",
        "def getTargetData(target):\n",
        "  ticker = yf.Ticker(target)\n",
        "  start = \"2010-01-01\"\n",
        "  end = \"2023-01-01\"\n",
        "  data = ticker.history(start=\"2010-01-01\", end = \"2023-01-01\", interval=\"1d\")\n",
        "  df = pd.DataFrame(data)\n",
        "  df.drop(labels = ['High', 'Low', 'Close', 'Volume', 'Dividends', 'Stock Splits', 'Capital Gains'], axis = 1, inplace = True)\n",
        "  df.rename(columns = {'Open' : target}, inplace = True)\n",
        "  return df\n",
        "# df.head()\n"
      ],
      "metadata": {
        "id": "t55yo-i-U9yl"
      },
      "execution_count": null,
      "outputs": []
    },
    {
      "cell_type": "code",
      "source": [
        "def addTicker(df, name):\n",
        "  ticker = yf.Ticker(name)\n",
        "  data = ticker.history(start=\"2010-01-01\", end = \"2023-01-01\", interval=\"1d\")\n",
        "  df2 = pd.DataFrame(data)\n",
        "  df2.rename(columns = {'Open' : name}, inplace = True)\n",
        "  # print(df2)\n",
        "  # print(df2.index.values)\n",
        "  df[name] = df2[name]\n",
        "  if df[name].isnull().values[0]:\n",
        "    df.drop(name, axis=1, inplace=True)\n",
        "  return\n",
        "  # df.head()"
      ],
      "metadata": {
        "id": "5HISdJQoWWZY"
      },
      "execution_count": null,
      "outputs": []
    },
    {
      "cell_type": "code",
      "source": [
        "def getForwardPriceCol(df1, days, ticker):\n",
        "  vals = []\n",
        "  print(len(df1))\n",
        "  for i in range(len(df1) - days):\n",
        "    vals.append(df1.iloc[i+ days][ticker])\n",
        "  df1 = df1[:(len(df1) - days)]\n",
        "  print(len(df1))\n",
        "  print(len(vals))\n",
        "  df1['Forward'] = vals\n",
        "  return df1\n",
        "  "
      ],
      "metadata": {
        "id": "E90np6sBnPDP"
      },
      "execution_count": null,
      "outputs": []
    },
    {
      "cell_type": "code",
      "source": [
        "def addMovingAvg(df1, days, ticker):\n",
        "  vals = []\n",
        "  # print(len(df1))\n",
        "  sum = 0\n",
        "  for i in range(1, len(df1)):\n",
        "    sum = sum + df1.iloc[i-1][ticker]\n",
        "    if i > days:\n",
        "      sum = sum - df1.iloc[i - days - 1][ticker]\n",
        "      vals.append(sum/days)\n",
        "  df1 = df1[days + 1:]\n",
        "  # print(len(df1))\n",
        "  # print(len(vals))\n",
        "  df1['MovingAvg'] = vals\n",
        "  return df1"
      ],
      "metadata": {
        "id": "JR_vvWPebaJG"
      },
      "execution_count": null,
      "outputs": []
    },
    {
      "cell_type": "code",
      "source": [
        "target = 'BBH'\n",
        "df = getTargetData(target)"
      ],
      "metadata": {
        "id": "W0uBeVqU9ewj"
      },
      "execution_count": null,
      "outputs": []
    },
    {
      "cell_type": "code",
      "source": [
        "if target == 'JETS':\n",
        "  holdings = {'UAL', 'AAL', 'DAL', 'LUV', 'ULCC', 'JBLU', 'ALK', 'HA', 'SNCY', 'ALGT', 'BKNG', 'BA', 'TRIP', 'EXPE', 'TXT'}\n",
        "  similar = {'IYT', 'XTN'}\n",
        "  otherIndicators = {'SPY', '^VIX', 'CL=F', 'OIL'}\n",
        "\n",
        "if(target == 'BBH'):\n",
        "  holdings = {'AMGN', 'GILD', 'VRTX', 'IQV', 'SGEN', 'BIIB', 'ICLR', 'ILMN', 'BGNE', 'BMRN', 'BMTX', 'ARGX', 'INCY'}\n",
        "  similar = {'IBB', 'XBI', 'PBE'}\n",
        "  otherIndicators = {'SPY', '^VIX'}\n",
        "\n",
        "for ticker in holdings:\n",
        "  addTicker(df, ticker)\n",
        "for ticker in similar:\n",
        "  addTicker(df, ticker)\n",
        "for ticker in otherIndicators:\n",
        "  addTicker(df, ticker)\n",
        "df.head()"
      ],
      "metadata": {
        "colab": {
          "base_uri": "https://localhost:8080/"
        },
        "id": "0OVbbdu6Wd1N",
        "outputId": "9861a846-798b-4318-8f77-5a1c615aa368"
      },
      "execution_count": null,
      "outputs": [
        {
          "output_type": "execute_result",
          "data": {
            "text/plain": [
              "                                 BBH       ILMN       AMGN       BMRN  \\\n",
              "Date                                                                    \n",
              "2010-01-04 00:00:00-05:00  28.560590  31.120001  42.079031  18.940001   \n",
              "2010-01-05 00:00:00-05:00  28.659502  30.370001  42.599173  19.070000   \n",
              "2010-01-06 00:00:00-05:00  28.572233  30.240000  42.309363  18.980000   \n",
              "2010-01-07 00:00:00-05:00  28.618770  32.240002  41.915562  19.309999   \n",
              "2010-01-08 00:00:00-05:00  28.516953  32.599998  41.662923  20.129999   \n",
              "\n",
              "                                BIIB       VRTX   SGEN       GILD       ICLR  \\\n",
              "Date                                                                           \n",
              "2010-01-04 00:00:00-05:00  53.970001  42.849998  10.24  16.750121  21.799999   \n",
              "2010-01-05 00:00:00-05:00  54.720001  43.060001  10.55  16.738537  21.459999   \n",
              "2010-01-06 00:00:00-05:00  53.099998  42.509998  10.56  16.985599  22.180000   \n",
              "2010-01-07 00:00:00-05:00  53.230000  42.000000  10.85  17.275127  22.580000   \n",
              "2010-01-08 00:00:00-05:00  53.000000  41.450001  10.75  17.356196  24.000000   \n",
              "\n",
              "                            INCY        XBI        PBE        IBB       ^VIX  \\\n",
              "Date                                                                           \n",
              "2010-01-04 00:00:00-05:00   9.22  17.529941  16.314630  26.688011  21.680000   \n",
              "2010-01-05 00:00:00-05:00   9.51  17.597740  16.431369  26.697722  20.049999   \n",
              "2010-01-06 00:00:00-05:00  10.38  17.659075  16.402186  26.843349  19.590000   \n",
              "2010-01-07 00:00:00-05:00  11.00  17.923799  16.499468  26.940430  19.680000   \n",
              "2010-01-08 00:00:00-05:00  10.82  17.885060  16.538384  26.872473  19.270000   \n",
              "\n",
              "                                 SPY  \n",
              "Date                                  \n",
              "2010-01-04 00:00:00-05:00  87.704920  \n",
              "2010-01-05 00:00:00-05:00  88.399542  \n",
              "2010-01-06 00:00:00-05:00  88.602504  \n",
              "2010-01-07 00:00:00-05:00  88.586864  \n",
              "2010-01-08 00:00:00-05:00  88.891287  "
            ],
            "text/html": [
              "\n",
              "  <div id=\"df-86b5606d-d7f0-4b9d-8810-3c50ec997e73\">\n",
              "    <div class=\"colab-df-container\">\n",
              "      <div>\n",
              "<style scoped>\n",
              "    .dataframe tbody tr th:only-of-type {\n",
              "        vertical-align: middle;\n",
              "    }\n",
              "\n",
              "    .dataframe tbody tr th {\n",
              "        vertical-align: top;\n",
              "    }\n",
              "\n",
              "    .dataframe thead th {\n",
              "        text-align: right;\n",
              "    }\n",
              "</style>\n",
              "<table border=\"1\" class=\"dataframe\">\n",
              "  <thead>\n",
              "    <tr style=\"text-align: right;\">\n",
              "      <th></th>\n",
              "      <th>BBH</th>\n",
              "      <th>ILMN</th>\n",
              "      <th>AMGN</th>\n",
              "      <th>BMRN</th>\n",
              "      <th>BIIB</th>\n",
              "      <th>VRTX</th>\n",
              "      <th>SGEN</th>\n",
              "      <th>GILD</th>\n",
              "      <th>ICLR</th>\n",
              "      <th>INCY</th>\n",
              "      <th>XBI</th>\n",
              "      <th>PBE</th>\n",
              "      <th>IBB</th>\n",
              "      <th>^VIX</th>\n",
              "      <th>SPY</th>\n",
              "    </tr>\n",
              "    <tr>\n",
              "      <th>Date</th>\n",
              "      <th></th>\n",
              "      <th></th>\n",
              "      <th></th>\n",
              "      <th></th>\n",
              "      <th></th>\n",
              "      <th></th>\n",
              "      <th></th>\n",
              "      <th></th>\n",
              "      <th></th>\n",
              "      <th></th>\n",
              "      <th></th>\n",
              "      <th></th>\n",
              "      <th></th>\n",
              "      <th></th>\n",
              "      <th></th>\n",
              "    </tr>\n",
              "  </thead>\n",
              "  <tbody>\n",
              "    <tr>\n",
              "      <th>2010-01-04 00:00:00-05:00</th>\n",
              "      <td>28.560590</td>\n",
              "      <td>31.120001</td>\n",
              "      <td>42.079031</td>\n",
              "      <td>18.940001</td>\n",
              "      <td>53.970001</td>\n",
              "      <td>42.849998</td>\n",
              "      <td>10.24</td>\n",
              "      <td>16.750121</td>\n",
              "      <td>21.799999</td>\n",
              "      <td>9.22</td>\n",
              "      <td>17.529941</td>\n",
              "      <td>16.314630</td>\n",
              "      <td>26.688011</td>\n",
              "      <td>21.680000</td>\n",
              "      <td>87.704920</td>\n",
              "    </tr>\n",
              "    <tr>\n",
              "      <th>2010-01-05 00:00:00-05:00</th>\n",
              "      <td>28.659502</td>\n",
              "      <td>30.370001</td>\n",
              "      <td>42.599173</td>\n",
              "      <td>19.070000</td>\n",
              "      <td>54.720001</td>\n",
              "      <td>43.060001</td>\n",
              "      <td>10.55</td>\n",
              "      <td>16.738537</td>\n",
              "      <td>21.459999</td>\n",
              "      <td>9.51</td>\n",
              "      <td>17.597740</td>\n",
              "      <td>16.431369</td>\n",
              "      <td>26.697722</td>\n",
              "      <td>20.049999</td>\n",
              "      <td>88.399542</td>\n",
              "    </tr>\n",
              "    <tr>\n",
              "      <th>2010-01-06 00:00:00-05:00</th>\n",
              "      <td>28.572233</td>\n",
              "      <td>30.240000</td>\n",
              "      <td>42.309363</td>\n",
              "      <td>18.980000</td>\n",
              "      <td>53.099998</td>\n",
              "      <td>42.509998</td>\n",
              "      <td>10.56</td>\n",
              "      <td>16.985599</td>\n",
              "      <td>22.180000</td>\n",
              "      <td>10.38</td>\n",
              "      <td>17.659075</td>\n",
              "      <td>16.402186</td>\n",
              "      <td>26.843349</td>\n",
              "      <td>19.590000</td>\n",
              "      <td>88.602504</td>\n",
              "    </tr>\n",
              "    <tr>\n",
              "      <th>2010-01-07 00:00:00-05:00</th>\n",
              "      <td>28.618770</td>\n",
              "      <td>32.240002</td>\n",
              "      <td>41.915562</td>\n",
              "      <td>19.309999</td>\n",
              "      <td>53.230000</td>\n",
              "      <td>42.000000</td>\n",
              "      <td>10.85</td>\n",
              "      <td>17.275127</td>\n",
              "      <td>22.580000</td>\n",
              "      <td>11.00</td>\n",
              "      <td>17.923799</td>\n",
              "      <td>16.499468</td>\n",
              "      <td>26.940430</td>\n",
              "      <td>19.680000</td>\n",
              "      <td>88.586864</td>\n",
              "    </tr>\n",
              "    <tr>\n",
              "      <th>2010-01-08 00:00:00-05:00</th>\n",
              "      <td>28.516953</td>\n",
              "      <td>32.599998</td>\n",
              "      <td>41.662923</td>\n",
              "      <td>20.129999</td>\n",
              "      <td>53.000000</td>\n",
              "      <td>41.450001</td>\n",
              "      <td>10.75</td>\n",
              "      <td>17.356196</td>\n",
              "      <td>24.000000</td>\n",
              "      <td>10.82</td>\n",
              "      <td>17.885060</td>\n",
              "      <td>16.538384</td>\n",
              "      <td>26.872473</td>\n",
              "      <td>19.270000</td>\n",
              "      <td>88.891287</td>\n",
              "    </tr>\n",
              "  </tbody>\n",
              "</table>\n",
              "</div>\n",
              "      <button class=\"colab-df-convert\" onclick=\"convertToInteractive('df-86b5606d-d7f0-4b9d-8810-3c50ec997e73')\"\n",
              "              title=\"Convert this dataframe to an interactive table.\"\n",
              "              style=\"display:none;\">\n",
              "        \n",
              "  <svg xmlns=\"http://www.w3.org/2000/svg\" height=\"24px\"viewBox=\"0 0 24 24\"\n",
              "       width=\"24px\">\n",
              "    <path d=\"M0 0h24v24H0V0z\" fill=\"none\"/>\n",
              "    <path d=\"M18.56 5.44l.94 2.06.94-2.06 2.06-.94-2.06-.94-.94-2.06-.94 2.06-2.06.94zm-11 1L8.5 8.5l.94-2.06 2.06-.94-2.06-.94L8.5 2.5l-.94 2.06-2.06.94zm10 10l.94 2.06.94-2.06 2.06-.94-2.06-.94-.94-2.06-.94 2.06-2.06.94z\"/><path d=\"M17.41 7.96l-1.37-1.37c-.4-.4-.92-.59-1.43-.59-.52 0-1.04.2-1.43.59L10.3 9.45l-7.72 7.72c-.78.78-.78 2.05 0 2.83L4 21.41c.39.39.9.59 1.41.59.51 0 1.02-.2 1.41-.59l7.78-7.78 2.81-2.81c.8-.78.8-2.07 0-2.86zM5.41 20L4 18.59l7.72-7.72 1.47 1.35L5.41 20z\"/>\n",
              "  </svg>\n",
              "      </button>\n",
              "      \n",
              "  <style>\n",
              "    .colab-df-container {\n",
              "      display:flex;\n",
              "      flex-wrap:wrap;\n",
              "      gap: 12px;\n",
              "    }\n",
              "\n",
              "    .colab-df-convert {\n",
              "      background-color: #E8F0FE;\n",
              "      border: none;\n",
              "      border-radius: 50%;\n",
              "      cursor: pointer;\n",
              "      display: none;\n",
              "      fill: #1967D2;\n",
              "      height: 32px;\n",
              "      padding: 0 0 0 0;\n",
              "      width: 32px;\n",
              "    }\n",
              "\n",
              "    .colab-df-convert:hover {\n",
              "      background-color: #E2EBFA;\n",
              "      box-shadow: 0px 1px 2px rgba(60, 64, 67, 0.3), 0px 1px 3px 1px rgba(60, 64, 67, 0.15);\n",
              "      fill: #174EA6;\n",
              "    }\n",
              "\n",
              "    [theme=dark] .colab-df-convert {\n",
              "      background-color: #3B4455;\n",
              "      fill: #D2E3FC;\n",
              "    }\n",
              "\n",
              "    [theme=dark] .colab-df-convert:hover {\n",
              "      background-color: #434B5C;\n",
              "      box-shadow: 0px 1px 3px 1px rgba(0, 0, 0, 0.15);\n",
              "      filter: drop-shadow(0px 1px 2px rgba(0, 0, 0, 0.3));\n",
              "      fill: #FFFFFF;\n",
              "    }\n",
              "  </style>\n",
              "\n",
              "      <script>\n",
              "        const buttonEl =\n",
              "          document.querySelector('#df-86b5606d-d7f0-4b9d-8810-3c50ec997e73 button.colab-df-convert');\n",
              "        buttonEl.style.display =\n",
              "          google.colab.kernel.accessAllowed ? 'block' : 'none';\n",
              "\n",
              "        async function convertToInteractive(key) {\n",
              "          const element = document.querySelector('#df-86b5606d-d7f0-4b9d-8810-3c50ec997e73');\n",
              "          const dataTable =\n",
              "            await google.colab.kernel.invokeFunction('convertToInteractive',\n",
              "                                                     [key], {});\n",
              "          if (!dataTable) return;\n",
              "\n",
              "          const docLinkHtml = 'Like what you see? Visit the ' +\n",
              "            '<a target=\"_blank\" href=https://colab.research.google.com/notebooks/data_table.ipynb>data table notebook</a>'\n",
              "            + ' to learn more about interactive tables.';\n",
              "          element.innerHTML = '';\n",
              "          dataTable['output_type'] = 'display_data';\n",
              "          await google.colab.output.renderOutput(dataTable, element);\n",
              "          const docLink = document.createElement('div');\n",
              "          docLink.innerHTML = docLinkHtml;\n",
              "          element.appendChild(docLink);\n",
              "        }\n",
              "      </script>\n",
              "    </div>\n",
              "  </div>\n",
              "  "
            ]
          },
          "metadata": {},
          "execution_count": 405
        }
      ]
    },
    {
      "cell_type": "code",
      "source": [
        "def percentChange(df1):\n",
        "  #using z score\n",
        "  df2 = df1.copy()\n",
        "  vals = []\n",
        "  for feature in df1.columns:\n",
        "    for i in range(1, len(df1)):      \n",
        "      df2[feature][i] = (df1[feature][i] - df1[feature][i-1])/df1[feature][i-1]\n",
        "  df2 = df2[1:]\n",
        "  return df2\n"
      ],
      "metadata": {
        "id": "pzn2xSKvvVz2"
      },
      "execution_count": null,
      "outputs": []
    },
    {
      "cell_type": "code",
      "source": [
        "# df = addMovingAvg(df, 20, target)"
      ],
      "metadata": {
        "id": "OrLfV-0AcKVx"
      },
      "execution_count": null,
      "outputs": []
    },
    {
      "cell_type": "code",
      "source": [
        "import math\n",
        "\n",
        "df.dropna(axis=0, inplace = True)\n",
        "\n",
        "df_prices = df.copy()\n",
        "df_prices.drop(index=df.index[0], axis=0, inplace=True)\n",
        "\n",
        "split1 = math.floor(0.8 * len(df_prices))\n",
        "split2 = math.floor(0.5 * split1)\n",
        "df_prices_test = df_prices.iloc[split2:split1, :]\n",
        "df_prices_metatest = df_prices.iloc[split1:, :]"
      ],
      "metadata": {
        "id": "7i4VALRZxyhJ"
      },
      "execution_count": null,
      "outputs": []
    },
    {
      "cell_type": "code",
      "source": [
        "# df = getForwardPriceCol(df, 5, 'BBH')\n",
        "df = percentChange(df)\n",
        "print(len(df))\n",
        "df.head()"
      ],
      "metadata": {
        "colab": {
          "base_uri": "https://localhost:8080/"
        },
        "id": "bxIaKfgRoBB1",
        "outputId": "816e55f3-9774-4859-cec4-fe43616705db"
      },
      "execution_count": null,
      "outputs": [
        {
          "output_type": "stream",
          "name": "stdout",
          "text": [
            "3271\n"
          ]
        },
        {
          "output_type": "execute_result",
          "data": {
            "text/plain": [
              "                                BBH      ILMN      AMGN      BMRN      BIIB  \\\n",
              "Date                                                                          \n",
              "2010-01-05 00:00:00-05:00  0.003463 -0.024100  0.012361  0.006864  0.013897   \n",
              "2010-01-06 00:00:00-05:00 -0.003045 -0.004281 -0.006803 -0.004719 -0.029605   \n",
              "2010-01-07 00:00:00-05:00  0.001629  0.066138 -0.009308  0.017387  0.002448   \n",
              "2010-01-08 00:00:00-05:00 -0.003558  0.011166 -0.006027  0.042465 -0.004321   \n",
              "2010-01-11 00:00:00-05:00  0.017240  0.021472  0.015338  0.005961  0.020755   \n",
              "\n",
              "                               VRTX      SGEN      GILD      ICLR      INCY  \\\n",
              "Date                                                                          \n",
              "2010-01-05 00:00:00-05:00  0.004901  0.030273 -0.000692 -0.015596  0.031453   \n",
              "2010-01-06 00:00:00-05:00 -0.012773  0.000948  0.014760  0.033551  0.091483   \n",
              "2010-01-07 00:00:00-05:00 -0.011997  0.027462  0.017046  0.018034  0.059730   \n",
              "2010-01-08 00:00:00-05:00 -0.013095 -0.009217  0.004693  0.062888 -0.016364   \n",
              "2010-01-11 00:00:00-05:00 -0.015440  0.007442 -0.012678  0.001250  0.012939   \n",
              "\n",
              "                                XBI       PBE       IBB      ^VIX       SPY  \n",
              "Date                                                                         \n",
              "2010-01-05 00:00:00-05:00  0.003868  0.007155  0.000364 -0.075185  0.007920  \n",
              "2010-01-06 00:00:00-05:00  0.003485 -0.001776  0.005455 -0.022943  0.002296  \n",
              "2010-01-07 00:00:00-05:00  0.014991  0.005931  0.003617  0.004594 -0.000177  \n",
              "2010-01-08 00:00:00-05:00 -0.002161  0.002359 -0.002523 -0.020833  0.003436  \n",
              "2010-01-11 00:00:00-05:00  0.011011  0.002353  0.013608 -0.121432  0.010448  "
            ],
            "text/html": [
              "\n",
              "  <div id=\"df-e6c97681-4884-40b7-a564-d9de4f19ccae\">\n",
              "    <div class=\"colab-df-container\">\n",
              "      <div>\n",
              "<style scoped>\n",
              "    .dataframe tbody tr th:only-of-type {\n",
              "        vertical-align: middle;\n",
              "    }\n",
              "\n",
              "    .dataframe tbody tr th {\n",
              "        vertical-align: top;\n",
              "    }\n",
              "\n",
              "    .dataframe thead th {\n",
              "        text-align: right;\n",
              "    }\n",
              "</style>\n",
              "<table border=\"1\" class=\"dataframe\">\n",
              "  <thead>\n",
              "    <tr style=\"text-align: right;\">\n",
              "      <th></th>\n",
              "      <th>BBH</th>\n",
              "      <th>ILMN</th>\n",
              "      <th>AMGN</th>\n",
              "      <th>BMRN</th>\n",
              "      <th>BIIB</th>\n",
              "      <th>VRTX</th>\n",
              "      <th>SGEN</th>\n",
              "      <th>GILD</th>\n",
              "      <th>ICLR</th>\n",
              "      <th>INCY</th>\n",
              "      <th>XBI</th>\n",
              "      <th>PBE</th>\n",
              "      <th>IBB</th>\n",
              "      <th>^VIX</th>\n",
              "      <th>SPY</th>\n",
              "    </tr>\n",
              "    <tr>\n",
              "      <th>Date</th>\n",
              "      <th></th>\n",
              "      <th></th>\n",
              "      <th></th>\n",
              "      <th></th>\n",
              "      <th></th>\n",
              "      <th></th>\n",
              "      <th></th>\n",
              "      <th></th>\n",
              "      <th></th>\n",
              "      <th></th>\n",
              "      <th></th>\n",
              "      <th></th>\n",
              "      <th></th>\n",
              "      <th></th>\n",
              "      <th></th>\n",
              "    </tr>\n",
              "  </thead>\n",
              "  <tbody>\n",
              "    <tr>\n",
              "      <th>2010-01-05 00:00:00-05:00</th>\n",
              "      <td>0.003463</td>\n",
              "      <td>-0.024100</td>\n",
              "      <td>0.012361</td>\n",
              "      <td>0.006864</td>\n",
              "      <td>0.013897</td>\n",
              "      <td>0.004901</td>\n",
              "      <td>0.030273</td>\n",
              "      <td>-0.000692</td>\n",
              "      <td>-0.015596</td>\n",
              "      <td>0.031453</td>\n",
              "      <td>0.003868</td>\n",
              "      <td>0.007155</td>\n",
              "      <td>0.000364</td>\n",
              "      <td>-0.075185</td>\n",
              "      <td>0.007920</td>\n",
              "    </tr>\n",
              "    <tr>\n",
              "      <th>2010-01-06 00:00:00-05:00</th>\n",
              "      <td>-0.003045</td>\n",
              "      <td>-0.004281</td>\n",
              "      <td>-0.006803</td>\n",
              "      <td>-0.004719</td>\n",
              "      <td>-0.029605</td>\n",
              "      <td>-0.012773</td>\n",
              "      <td>0.000948</td>\n",
              "      <td>0.014760</td>\n",
              "      <td>0.033551</td>\n",
              "      <td>0.091483</td>\n",
              "      <td>0.003485</td>\n",
              "      <td>-0.001776</td>\n",
              "      <td>0.005455</td>\n",
              "      <td>-0.022943</td>\n",
              "      <td>0.002296</td>\n",
              "    </tr>\n",
              "    <tr>\n",
              "      <th>2010-01-07 00:00:00-05:00</th>\n",
              "      <td>0.001629</td>\n",
              "      <td>0.066138</td>\n",
              "      <td>-0.009308</td>\n",
              "      <td>0.017387</td>\n",
              "      <td>0.002448</td>\n",
              "      <td>-0.011997</td>\n",
              "      <td>0.027462</td>\n",
              "      <td>0.017046</td>\n",
              "      <td>0.018034</td>\n",
              "      <td>0.059730</td>\n",
              "      <td>0.014991</td>\n",
              "      <td>0.005931</td>\n",
              "      <td>0.003617</td>\n",
              "      <td>0.004594</td>\n",
              "      <td>-0.000177</td>\n",
              "    </tr>\n",
              "    <tr>\n",
              "      <th>2010-01-08 00:00:00-05:00</th>\n",
              "      <td>-0.003558</td>\n",
              "      <td>0.011166</td>\n",
              "      <td>-0.006027</td>\n",
              "      <td>0.042465</td>\n",
              "      <td>-0.004321</td>\n",
              "      <td>-0.013095</td>\n",
              "      <td>-0.009217</td>\n",
              "      <td>0.004693</td>\n",
              "      <td>0.062888</td>\n",
              "      <td>-0.016364</td>\n",
              "      <td>-0.002161</td>\n",
              "      <td>0.002359</td>\n",
              "      <td>-0.002523</td>\n",
              "      <td>-0.020833</td>\n",
              "      <td>0.003436</td>\n",
              "    </tr>\n",
              "    <tr>\n",
              "      <th>2010-01-11 00:00:00-05:00</th>\n",
              "      <td>0.017240</td>\n",
              "      <td>0.021472</td>\n",
              "      <td>0.015338</td>\n",
              "      <td>0.005961</td>\n",
              "      <td>0.020755</td>\n",
              "      <td>-0.015440</td>\n",
              "      <td>0.007442</td>\n",
              "      <td>-0.012678</td>\n",
              "      <td>0.001250</td>\n",
              "      <td>0.012939</td>\n",
              "      <td>0.011011</td>\n",
              "      <td>0.002353</td>\n",
              "      <td>0.013608</td>\n",
              "      <td>-0.121432</td>\n",
              "      <td>0.010448</td>\n",
              "    </tr>\n",
              "  </tbody>\n",
              "</table>\n",
              "</div>\n",
              "      <button class=\"colab-df-convert\" onclick=\"convertToInteractive('df-e6c97681-4884-40b7-a564-d9de4f19ccae')\"\n",
              "              title=\"Convert this dataframe to an interactive table.\"\n",
              "              style=\"display:none;\">\n",
              "        \n",
              "  <svg xmlns=\"http://www.w3.org/2000/svg\" height=\"24px\"viewBox=\"0 0 24 24\"\n",
              "       width=\"24px\">\n",
              "    <path d=\"M0 0h24v24H0V0z\" fill=\"none\"/>\n",
              "    <path d=\"M18.56 5.44l.94 2.06.94-2.06 2.06-.94-2.06-.94-.94-2.06-.94 2.06-2.06.94zm-11 1L8.5 8.5l.94-2.06 2.06-.94-2.06-.94L8.5 2.5l-.94 2.06-2.06.94zm10 10l.94 2.06.94-2.06 2.06-.94-2.06-.94-.94-2.06-.94 2.06-2.06.94z\"/><path d=\"M17.41 7.96l-1.37-1.37c-.4-.4-.92-.59-1.43-.59-.52 0-1.04.2-1.43.59L10.3 9.45l-7.72 7.72c-.78.78-.78 2.05 0 2.83L4 21.41c.39.39.9.59 1.41.59.51 0 1.02-.2 1.41-.59l7.78-7.78 2.81-2.81c.8-.78.8-2.07 0-2.86zM5.41 20L4 18.59l7.72-7.72 1.47 1.35L5.41 20z\"/>\n",
              "  </svg>\n",
              "      </button>\n",
              "      \n",
              "  <style>\n",
              "    .colab-df-container {\n",
              "      display:flex;\n",
              "      flex-wrap:wrap;\n",
              "      gap: 12px;\n",
              "    }\n",
              "\n",
              "    .colab-df-convert {\n",
              "      background-color: #E8F0FE;\n",
              "      border: none;\n",
              "      border-radius: 50%;\n",
              "      cursor: pointer;\n",
              "      display: none;\n",
              "      fill: #1967D2;\n",
              "      height: 32px;\n",
              "      padding: 0 0 0 0;\n",
              "      width: 32px;\n",
              "    }\n",
              "\n",
              "    .colab-df-convert:hover {\n",
              "      background-color: #E2EBFA;\n",
              "      box-shadow: 0px 1px 2px rgba(60, 64, 67, 0.3), 0px 1px 3px 1px rgba(60, 64, 67, 0.15);\n",
              "      fill: #174EA6;\n",
              "    }\n",
              "\n",
              "    [theme=dark] .colab-df-convert {\n",
              "      background-color: #3B4455;\n",
              "      fill: #D2E3FC;\n",
              "    }\n",
              "\n",
              "    [theme=dark] .colab-df-convert:hover {\n",
              "      background-color: #434B5C;\n",
              "      box-shadow: 0px 1px 3px 1px rgba(0, 0, 0, 0.15);\n",
              "      filter: drop-shadow(0px 1px 2px rgba(0, 0, 0, 0.3));\n",
              "      fill: #FFFFFF;\n",
              "    }\n",
              "  </style>\n",
              "\n",
              "      <script>\n",
              "        const buttonEl =\n",
              "          document.querySelector('#df-e6c97681-4884-40b7-a564-d9de4f19ccae button.colab-df-convert');\n",
              "        buttonEl.style.display =\n",
              "          google.colab.kernel.accessAllowed ? 'block' : 'none';\n",
              "\n",
              "        async function convertToInteractive(key) {\n",
              "          const element = document.querySelector('#df-e6c97681-4884-40b7-a564-d9de4f19ccae');\n",
              "          const dataTable =\n",
              "            await google.colab.kernel.invokeFunction('convertToInteractive',\n",
              "                                                     [key], {});\n",
              "          if (!dataTable) return;\n",
              "\n",
              "          const docLinkHtml = 'Like what you see? Visit the ' +\n",
              "            '<a target=\"_blank\" href=https://colab.research.google.com/notebooks/data_table.ipynb>data table notebook</a>'\n",
              "            + ' to learn more about interactive tables.';\n",
              "          element.innerHTML = '';\n",
              "          dataTable['output_type'] = 'display_data';\n",
              "          await google.colab.output.renderOutput(dataTable, element);\n",
              "          const docLink = document.createElement('div');\n",
              "          docLink.innerHTML = docLinkHtml;\n",
              "          element.appendChild(docLink);\n",
              "        }\n",
              "      </script>\n",
              "    </div>\n",
              "  </div>\n",
              "  "
            ]
          },
          "metadata": {},
          "execution_count": 409
        }
      ]
    },
    {
      "cell_type": "code",
      "source": [
        "from sklearn.decomposition import PCA\n",
        "from matplotlib import pyplot as plt\n",
        "# import numpy as np\n",
        "scree_data = df.drop(columns = [target])\n",
        "pca = PCA(n_components = len(scree_data.columns))\n",
        "pca.fit(scree_data)\n",
        "n_comp = np.arange(1, len(scree_data.columns) + 1)\n",
        "plt.plot(n_comp, pca.explained_variance_ratio_)"
      ],
      "metadata": {
        "colab": {
          "base_uri": "https://localhost:8080/"
        },
        "id": "sZ66AjtvGWrI",
        "outputId": "30a8b92a-5153-403d-fa99-ea0c4bc1de07"
      },
      "execution_count": null,
      "outputs": [
        {
          "output_type": "execute_result",
          "data": {
            "text/plain": [
              "[<matplotlib.lines.Line2D at 0x7fa4abee6220>]"
            ]
          },
          "metadata": {},
          "execution_count": 410
        },
        {
          "output_type": "display_data",
          "data": {
            "text/plain": [
              "<Figure size 432x288 with 1 Axes>"
            ],
            "image/png": "[encoded data removed]"
          },
          "metadata": {
            "needs_background": "light"
          }
        }
      ]
    },
    {
      "cell_type": "code",
      "source": [
        "import math\n",
        "totalDays = len(df)\n",
        "split = math.floor(0.8 * totalDays)\n",
        "print(split)\n",
        "df_train = df.iloc[:split, :]\n",
        "df_test = df.iloc[split:, :]\n",
        "split = math.floor(0.5 * len(df_train))\n",
        "print(split)\n",
        "base_train = df_train.iloc[:split, :]\n",
        "base_test = df_train.iloc[split:, :]\n",
        "print(len(base_test))\n",
        "\n"
      ],
      "metadata": {
        "id": "EZb41rBf7NLX",
        "colab": {
          "base_uri": "https://localhost:8080/"
        },
        "outputId": "fd2c17e9-96fa-4d57-a22f-b9358aef9113"
      },
      "execution_count": null,
      "outputs": [
        {
          "output_type": "stream",
          "name": "stdout",
          "text": [
            "2616\n",
            "1308\n",
            "1308\n"
          ]
        }
      ]
    },
    {
      "cell_type": "code",
      "source": [
        "x_train = base_train.drop(columns = [target])\n",
        "y_train = base_train[target]\n",
        "x_test = base_test.drop(columns = [target])\n",
        "y_test = base_test[target]"
      ],
      "metadata": {
        "id": "b-5vv1DYO7jg"
      },
      "execution_count": null,
      "outputs": []
    },
    {
      "cell_type": "code",
      "source": [
        "base_train.head()\n",
        "# x = base_train['BBH'].rolling(3, win_type ='triang')\n",
        "# print(x)"
      ],
      "metadata": {
        "colab": {
          "base_uri": "https://localhost:8080/"
        },
        "id": "TQm65CmcNRJi",
        "outputId": "ec5970e1-a888-4084-8f04-8ceaa6fcdae6"
      },
      "execution_count": null,
      "outputs": [
        {
          "output_type": "execute_result",
          "data": {
            "text/plain": [
              "                                BBH      ILMN      AMGN      BMRN      BIIB  \\\n",
              "Date                                                                          \n",
              "2010-01-05 00:00:00-05:00  0.003463 -0.024100  0.012361  0.006864  0.013897   \n",
              "2010-01-06 00:00:00-05:00 -0.003045 -0.004281 -0.006803 -0.004719 -0.029605   \n",
              "2010-01-07 00:00:00-05:00  0.001629  0.066138 -0.009308  0.017387  0.002448   \n",
              "2010-01-08 00:00:00-05:00 -0.003558  0.011166 -0.006027  0.042465 -0.004321   \n",
              "2010-01-11 00:00:00-05:00  0.017240  0.021472  0.015338  0.005961  0.020755   \n",
              "\n",
              "                               VRTX      SGEN      GILD      ICLR      INCY  \\\n",
              "Date                                                                          \n",
              "2010-01-05 00:00:00-05:00  0.004901  0.030273 -0.000692 -0.015596  0.031453   \n",
              "2010-01-06 00:00:00-05:00 -0.012773  0.000948  0.014760  0.033551  0.091483   \n",
              "2010-01-07 00:00:00-05:00 -0.011997  0.027462  0.017046  0.018034  0.059730   \n",
              "2010-01-08 00:00:00-05:00 -0.013095 -0.009217  0.004693  0.062888 -0.016364   \n",
              "2010-01-11 00:00:00-05:00 -0.015440  0.007442 -0.012678  0.001250  0.012939   \n",
              "\n",
              "                                XBI       PBE       IBB      ^VIX       SPY  \n",
              "Date                                                                         \n",
              "2010-01-05 00:00:00-05:00  0.003868  0.007155  0.000364 -0.075185  0.007920  \n",
              "2010-01-06 00:00:00-05:00  0.003485 -0.001776  0.005455 -0.022943  0.002296  \n",
              "2010-01-07 00:00:00-05:00  0.014991  0.005931  0.003617  0.004594 -0.000177  \n",
              "2010-01-08 00:00:00-05:00 -0.002161  0.002359 -0.002523 -0.020833  0.003436  \n",
              "2010-01-11 00:00:00-05:00  0.011011  0.002353  0.013608 -0.121432  0.010448  "
            ],
            "text/html": [
              "\n",
              "  <div id=\"df-742fb777-e166-4ad0-a243-d3a84fd6b7b6\">\n",
              "    <div class=\"colab-df-container\">\n",
              "      <div>\n",
              "<style scoped>\n",
              "    .dataframe tbody tr th:only-of-type {\n",
              "        vertical-align: middle;\n",
              "    }\n",
              "\n",
              "    .dataframe tbody tr th {\n",
              "        vertical-align: top;\n",
              "    }\n",
              "\n",
              "    .dataframe thead th {\n",
              "        text-align: right;\n",
              "    }\n",
              "</style>\n",
              "<table border=\"1\" class=\"dataframe\">\n",
              "  <thead>\n",
              "    <tr style=\"text-align: right;\">\n",
              "      <th></th>\n",
              "      <th>BBH</th>\n",
              "      <th>ILMN</th>\n",
              "      <th>AMGN</th>\n",
              "      <th>BMRN</th>\n",
              "      <th>BIIB</th>\n",
              "      <th>VRTX</th>\n",
              "      <th>SGEN</th>\n",
              "      <th>GILD</th>\n",
              "      <th>ICLR</th>\n",
              "      <th>INCY</th>\n",
              "      <th>XBI</th>\n",
              "      <th>PBE</th>\n",
              "      <th>IBB</th>\n",
              "      <th>^VIX</th>\n",
              "      <th>SPY</th>\n",
              "    </tr>\n",
              "    <tr>\n",
              "      <th>Date</th>\n",
              "      <th></th>\n",
              "      <th></th>\n",
              "      <th></th>\n",
              "      <th></th>\n",
              "      <th></th>\n",
              "      <th></th>\n",
              "      <th></th>\n",
              "      <th></th>\n",
              "      <th></th>\n",
              "      <th></th>\n",
              "      <th></th>\n",
              "      <th></th>\n",
              "      <th></th>\n",
              "      <th></th>\n",
              "      <th></th>\n",
              "    </tr>\n",
              "  </thead>\n",
              "  <tbody>\n",
              "    <tr>\n",
              "      <th>2010-01-05 00:00:00-05:00</th>\n",
              "      <td>0.003463</td>\n",
              "      <td>-0.024100</td>\n",
              "      <td>0.012361</td>\n",
              "      <td>0.006864</td>\n",
              "      <td>0.013897</td>\n",
              "      <td>0.004901</td>\n",
              "      <td>0.030273</td>\n",
              "      <td>-0.000692</td>\n",
              "      <td>-0.015596</td>\n",
              "      <td>0.031453</td>\n",
              "      <td>0.003868</td>\n",
              "      <td>0.007155</td>\n",
              "      <td>0.000364</td>\n",
              "      <td>-0.075185</td>\n",
              "      <td>0.007920</td>\n",
              "    </tr>\n",
              "    <tr>\n",
              "      <th>2010-01-06 00:00:00-05:00</th>\n",
              "      <td>-0.003045</td>\n",
              "      <td>-0.004281</td>\n",
              "      <td>-0.006803</td>\n",
              "      <td>-0.004719</td>\n",
              "      <td>-0.029605</td>\n",
              "      <td>-0.012773</td>\n",
              "      <td>0.000948</td>\n",
              "      <td>0.014760</td>\n",
              "      <td>0.033551</td>\n",
              "      <td>0.091483</td>\n",
              "      <td>0.003485</td>\n",
              "      <td>-0.001776</td>\n",
              "      <td>0.005455</td>\n",
              "      <td>-0.022943</td>\n",
              "      <td>0.002296</td>\n",
              "    </tr>\n",
              "    <tr>\n",
              "      <th>2010-01-07 00:00:00-05:00</th>\n",
              "      <td>0.001629</td>\n",
              "      <td>0.066138</td>\n",
              "      <td>-0.009308</td>\n",
              "      <td>0.017387</td>\n",
              "      <td>0.002448</td>\n",
              "      <td>-0.011997</td>\n",
              "      <td>0.027462</td>\n",
              "      <td>0.017046</td>\n",
              "      <td>0.018034</td>\n",
              "      <td>0.059730</td>\n",
              "      <td>0.014991</td>\n",
              "      <td>0.005931</td>\n",
              "      <td>0.003617</td>\n",
              "      <td>0.004594</td>\n",
              "      <td>-0.000177</td>\n",
              "    </tr>\n",
              "    <tr>\n",
              "      <th>2010-01-08 00:00:00-05:00</th>\n",
              "      <td>-0.003558</td>\n",
              "      <td>0.011166</td>\n",
              "      <td>-0.006027</td>\n",
              "      <td>0.042465</td>\n",
              "      <td>-0.004321</td>\n",
              "      <td>-0.013095</td>\n",
              "      <td>-0.009217</td>\n",
              "      <td>0.004693</td>\n",
              "      <td>0.062888</td>\n",
              "      <td>-0.016364</td>\n",
              "      <td>-0.002161</td>\n",
              "      <td>0.002359</td>\n",
              "      <td>-0.002523</td>\n",
              "      <td>-0.020833</td>\n",
              "      <td>0.003436</td>\n",
              "    </tr>\n",
              "    <tr>\n",
              "      <th>2010-01-11 00:00:00-05:00</th>\n",
              "      <td>0.017240</td>\n",
              "      <td>0.021472</td>\n",
              "      <td>0.015338</td>\n",
              "      <td>0.005961</td>\n",
              "      <td>0.020755</td>\n",
              "      <td>-0.015440</td>\n",
              "      <td>0.007442</td>\n",
              "      <td>-0.012678</td>\n",
              "      <td>0.001250</td>\n",
              "      <td>0.012939</td>\n",
              "      <td>0.011011</td>\n",
              "      <td>0.002353</td>\n",
              "      <td>0.013608</td>\n",
              "      <td>-0.121432</td>\n",
              "      <td>0.010448</td>\n",
              "    </tr>\n",
              "  </tbody>\n",
              "</table>\n",
              "</div>\n",
              "      <button class=\"colab-df-convert\" onclick=\"convertToInteractive('df-742fb777-e166-4ad0-a243-d3a84fd6b7b6')\"\n",
              "              title=\"Convert this dataframe to an interactive table.\"\n",
              "              style=\"display:none;\">\n",
              "        \n",
              "  <svg xmlns=\"http://www.w3.org/2000/svg\" height=\"24px\"viewBox=\"0 0 24 24\"\n",
              "       width=\"24px\">\n",
              "    <path d=\"M0 0h24v24H0V0z\" fill=\"none\"/>\n",
              "    <path d=\"M18.56 5.44l.94 2.06.94-2.06 2.06-.94-2.06-.94-.94-2.06-.94 2.06-2.06.94zm-11 1L8.5 8.5l.94-2.06 2.06-.94-2.06-.94L8.5 2.5l-.94 2.06-2.06.94zm10 10l.94 2.06.94-2.06 2.06-.94-2.06-.94-.94-2.06-.94 2.06-2.06.94z\"/><path d=\"M17.41 7.96l-1.37-1.37c-.4-.4-.92-.59-1.43-.59-.52 0-1.04.2-1.43.59L10.3 9.45l-7.72 7.72c-.78.78-.78 2.05 0 2.83L4 21.41c.39.39.9.59 1.41.59.51 0 1.02-.2 1.41-.59l7.78-7.78 2.81-2.81c.8-.78.8-2.07 0-2.86zM5.41 20L4 18.59l7.72-7.72 1.47 1.35L5.41 20z\"/>\n",
              "  </svg>\n",
              "      </button>\n",
              "      \n",
              "  <style>\n",
              "    .colab-df-container {\n",
              "      display:flex;\n",
              "      flex-wrap:wrap;\n",
              "      gap: 12px;\n",
              "    }\n",
              "\n",
              "    .colab-df-convert {\n",
              "      background-color: #E8F0FE;\n",
              "      border: none;\n",
              "      border-radius: 50%;\n",
              "      cursor: pointer;\n",
              "      display: none;\n",
              "      fill: #1967D2;\n",
              "      height: 32px;\n",
              "      padding: 0 0 0 0;\n",
              "      width: 32px;\n",
              "    }\n",
              "\n",
              "    .colab-df-convert:hover {\n",
              "      background-color: #E2EBFA;\n",
              "      box-shadow: 0px 1px 2px rgba(60, 64, 67, 0.3), 0px 1px 3px 1px rgba(60, 64, 67, 0.15);\n",
              "      fill: #174EA6;\n",
              "    }\n",
              "\n",
              "    [theme=dark] .colab-df-convert {\n",
              "      background-color: #3B4455;\n",
              "      fill: #D2E3FC;\n",
              "    }\n",
              "\n",
              "    [theme=dark] .colab-df-convert:hover {\n",
              "      background-color: #434B5C;\n",
              "      box-shadow: 0px 1px 3px 1px rgba(0, 0, 0, 0.15);\n",
              "      filter: drop-shadow(0px 1px 2px rgba(0, 0, 0, 0.3));\n",
              "      fill: #FFFFFF;\n",
              "    }\n",
              "  </style>\n",
              "\n",
              "      <script>\n",
              "        const buttonEl =\n",
              "          document.querySelector('#df-742fb777-e166-4ad0-a243-d3a84fd6b7b6 button.colab-df-convert');\n",
              "        buttonEl.style.display =\n",
              "          google.colab.kernel.accessAllowed ? 'block' : 'none';\n",
              "\n",
              "        async function convertToInteractive(key) {\n",
              "          const element = document.querySelector('#df-742fb777-e166-4ad0-a243-d3a84fd6b7b6');\n",
              "          const dataTable =\n",
              "            await google.colab.kernel.invokeFunction('convertToInteractive',\n",
              "                                                     [key], {});\n",
              "          if (!dataTable) return;\n",
              "\n",
              "          const docLinkHtml = 'Like what you see? Visit the ' +\n",
              "            '<a target=\"_blank\" href=https://colab.research.google.com/notebooks/data_table.ipynb>data table notebook</a>'\n",
              "            + ' to learn more about interactive tables.';\n",
              "          element.innerHTML = '';\n",
              "          dataTable['output_type'] = 'display_data';\n",
              "          await google.colab.output.renderOutput(dataTable, element);\n",
              "          const docLink = document.createElement('div');\n",
              "          docLink.innerHTML = docLinkHtml;\n",
              "          element.appendChild(docLink);\n",
              "        }\n",
              "      </script>\n",
              "    </div>\n",
              "  </div>\n",
              "  "
            ]
          },
          "metadata": {},
          "execution_count": 413
        }
      ]
    },
    {
      "cell_type": "markdown",
      "source": [
        "# Training and Testing Base Model"
      ],
      "metadata": {
        "id": "Ai40Lc9JPTpH"
      }
    },
    {
      "cell_type": "code",
      "source": [
        "from sklearn.svm import SVR\n",
        "from sklearn.preprocessing import StandardScaler\n",
        "from sklearn.pipeline import make_pipeline\n",
        "from itertools import product\n",
        "from sklearn.linear_model import LinearRegression\n",
        "\n",
        "\n",
        "# t = 30\n",
        "# lookback = 20\n",
        "C = 1\n",
        "gamma = 0.01\n",
        "epsilon = 0.000001\n",
        "pca_comp = 1\n",
        "base_model = make_pipeline(StandardScaler(), PCA(n_components=pca_comp), \n",
        "                      SVR(C=C, gamma=gamma, epsilon=epsilon))\n",
        "# base_model = make_pipeline(StandardScaler(), PCA(n_components=pca_comp), \n",
        "#                       LinearRegression())\n",
        "# X_train = data[s].iloc[t-lookback:t+1].values\n",
        "# y_train = data[y].iloc[t-lookback:t+1].values.flatten()\n",
        "base_model.fit(x_train,y_train.values.flatten())\n",
        "# X_test = data[s].iloc[t].values.reshape(1,-1)\n",
        "y_pred = base_model.predict(x_test)\n",
        "print(y_pred)\n",
        "# predictions.append(yhat)\n",
        "\n",
        "results = pd.DataFrame()\n",
        "# results['Ticker'] = testRussell2021['Ticker']\n",
        "results['Actual'] = y_test\n",
        "results['Predicted'] = y_pred.tolist()"
      ],
      "metadata": {
        "colab": {
          "base_uri": "https://localhost:8080/"
        },
        "id": "sVS41I0HV6qS",
        "outputId": "89c8c18d-1009-4e6f-a2de-c498b57fbbe9"
      },
      "execution_count": null,
      "outputs": [
        {
          "output_type": "stream",
          "name": "stdout",
          "text": [
            "[ 0.00532609  0.00982266  0.02966802 ... -0.00803519  0.02702382\n",
            " -0.02074348]\n"
          ]
        }
      ]
    },
    {
      "cell_type": "code",
      "source": [
        "#Running prediction models\n",
        "from sklearn.linear_model import LinearRegression\n",
        "from sklearn.linear_model import LogisticRegression\n",
        "from sklearn.tree import DecisionTreeClassifier\n",
        "from sklearn.svm import SVC\n",
        "from sklearn.naive_bayes import GaussianNB\n",
        "from sklearn.ensemble import RandomForestClassifier\n",
        "from sklearn.neighbors import KNeighborsClassifier\n",
        "\n",
        "\n",
        "#Trying different models:\n",
        "# base_model = LinearRegression()\n",
        "# classifier = LogisticRegression(random_state = 0)\n",
        "#classifier = DecisionTreeClassifier(criterion = 'entropy', random_state = 0)\n",
        "# classifier = SVC(kernel = 'linear', random_state = 0)\n",
        "# classifier = GaussianNB()\n",
        "#classifier = RandomForestClassifier(n_estimators = 10, criterion = 'entropy', random_state = 0)\n",
        "# classifier = SVC(kernel = 'sigmoid', random_state = 0)\n",
        "classifier = KNeighborsClassifier(n_neighbors =3, metric = 'minkowski', p = 5)\n",
        "\n",
        "\n",
        "# base_model.fit(x_train, y_train)\n",
        "\n",
        "# y_pred = base_model.predict(x_test)\n",
        "\n",
        "# results = pd.DataFrame()\n",
        "# results['Actual'] = y_test\n",
        "# results['Predicted'] = y_pred.tolist()\n",
        "\n"
      ],
      "metadata": {
        "id": "Ys0ikcTGPVG2"
      },
      "execution_count": null,
      "outputs": []
    },
    {
      "cell_type": "code",
      "source": [
        "results.head()"
      ],
      "metadata": {
        "colab": {
          "base_uri": "https://localhost:8080/",
          "height": 238
        },
        "id": "Z8DLbsBhioy0",
        "outputId": "45c617b8-8eae-4d39-998e-3da2948d73af"
      },
      "execution_count": null,
      "outputs": [
        {
          "output_type": "execute_result",
          "data": {
            "text/plain": [
              "                             Actual  Predicted\n",
              "Date                                          \n",
              "2015-03-18 00:00:00-04:00  0.005098   0.005326\n",
              "2015-03-19 00:00:00-04:00  0.012606   0.009823\n",
              "2015-03-20 00:00:00-04:00  0.036391   0.029668\n",
              "2015-03-23 00:00:00-04:00 -0.029071  -0.020129\n",
              "2015-03-24 00:00:00-04:00 -0.007760  -0.005222"
            ],
            "text/html": [
              "\n",
              "  <div id=\"df-e390931e-65b8-4603-8475-1c6923dcf8e3\">\n",
              "    <div class=\"colab-df-container\">\n",
              "      <div>\n",
              "<style scoped>\n",
              "    .dataframe tbody tr th:only-of-type {\n",
              "        vertical-align: middle;\n",
              "    }\n",
              "\n",
              "    .dataframe tbody tr th {\n",
              "        vertical-align: top;\n",
              "    }\n",
              "\n",
              "    .dataframe thead th {\n",
              "        text-align: right;\n",
              "    }\n",
              "</style>\n",
              "<table border=\"1\" class=\"dataframe\">\n",
              "  <thead>\n",
              "    <tr style=\"text-align: right;\">\n",
              "      <th></th>\n",
              "      <th>Actual</th>\n",
              "      <th>Predicted</th>\n",
              "    </tr>\n",
              "    <tr>\n",
              "      <th>Date</th>\n",
              "      <th></th>\n",
              "      <th></th>\n",
              "    </tr>\n",
              "  </thead>\n",
              "  <tbody>\n",
              "    <tr>\n",
              "      <th>2015-03-18 00:00:00-04:00</th>\n",
              "      <td>0.005098</td>\n",
              "      <td>0.005326</td>\n",
              "    </tr>\n",
              "    <tr>\n",
              "      <th>2015-03-19 00:00:00-04:00</th>\n",
              "      <td>0.012606</td>\n",
              "      <td>0.009823</td>\n",
              "    </tr>\n",
              "    <tr>\n",
              "      <th>2015-03-20 00:00:00-04:00</th>\n",
              "      <td>0.036391</td>\n",
              "      <td>0.029668</td>\n",
              "    </tr>\n",
              "    <tr>\n",
              "      <th>2015-03-23 00:00:00-04:00</th>\n",
              "      <td>-0.029071</td>\n",
              "      <td>-0.020129</td>\n",
              "    </tr>\n",
              "    <tr>\n",
              "      <th>2015-03-24 00:00:00-04:00</th>\n",
              "      <td>-0.007760</td>\n",
              "      <td>-0.005222</td>\n",
              "    </tr>\n",
              "  </tbody>\n",
              "</table>\n",
              "</div>\n",
              "      <button class=\"colab-df-convert\" onclick=\"convertToInteractive('df-e390931e-65b8-4603-8475-1c6923dcf8e3')\"\n",
              "              title=\"Convert this dataframe to an interactive table.\"\n",
              "              style=\"display:none;\">\n",
              "        \n",
              "  <svg xmlns=\"http://www.w3.org/2000/svg\" height=\"24px\"viewBox=\"0 0 24 24\"\n",
              "       width=\"24px\">\n",
              "    <path d=\"M0 0h24v24H0V0z\" fill=\"none\"/>\n",
              "    <path d=\"M18.56 5.44l.94 2.06.94-2.06 2.06-.94-2.06-.94-.94-2.06-.94 2.06-2.06.94zm-11 1L8.5 8.5l.94-2.06 2.06-.94-2.06-.94L8.5 2.5l-.94 2.06-2.06.94zm10 10l.94 2.06.94-2.06 2.06-.94-2.06-.94-.94-2.06-.94 2.06-2.06.94z\"/><path d=\"M17.41 7.96l-1.37-1.37c-.4-.4-.92-.59-1.43-.59-.52 0-1.04.2-1.43.59L10.3 9.45l-7.72 7.72c-.78.78-.78 2.05 0 2.83L4 21.41c.39.39.9.59 1.41.59.51 0 1.02-.2 1.41-.59l7.78-7.78 2.81-2.81c.8-.78.8-2.07 0-2.86zM5.41 20L4 18.59l7.72-7.72 1.47 1.35L5.41 20z\"/>\n",
              "  </svg>\n",
              "      </button>\n",
              "      \n",
              "  <style>\n",
              "    .colab-df-container {\n",
              "      display:flex;\n",
              "      flex-wrap:wrap;\n",
              "      gap: 12px;\n",
              "    }\n",
              "\n",
              "    .colab-df-convert {\n",
              "      background-color: #E8F0FE;\n",
              "      border: none;\n",
              "      border-radius: 50%;\n",
              "      cursor: pointer;\n",
              "      display: none;\n",
              "      fill: #1967D2;\n",
              "      height: 32px;\n",
              "      padding: 0 0 0 0;\n",
              "      width: 32px;\n",
              "    }\n",
              "\n",
              "    .colab-df-convert:hover {\n",
              "      background-color: #E2EBFA;\n",
              "      box-shadow: 0px 1px 2px rgba(60, 64, 67, 0.3), 0px 1px 3px 1px rgba(60, 64, 67, 0.15);\n",
              "      fill: #174EA6;\n",
              "    }\n",
              "\n",
              "    [theme=dark] .colab-df-convert {\n",
              "      background-color: #3B4455;\n",
              "      fill: #D2E3FC;\n",
              "    }\n",
              "\n",
              "    [theme=dark] .colab-df-convert:hover {\n",
              "      background-color: #434B5C;\n",
              "      box-shadow: 0px 1px 3px 1px rgba(0, 0, 0, 0.15);\n",
              "      filter: drop-shadow(0px 1px 2px rgba(0, 0, 0, 0.3));\n",
              "      fill: #FFFFFF;\n",
              "    }\n",
              "  </style>\n",
              "\n",
              "      <script>\n",
              "        const buttonEl =\n",
              "          document.querySelector('#df-e390931e-65b8-4603-8475-1c6923dcf8e3 button.colab-df-convert');\n",
              "        buttonEl.style.display =\n",
              "          google.colab.kernel.accessAllowed ? 'block' : 'none';\n",
              "\n",
              "        async function convertToInteractive(key) {\n",
              "          const element = document.querySelector('#df-e390931e-65b8-4603-8475-1c6923dcf8e3');\n",
              "          const dataTable =\n",
              "            await google.colab.kernel.invokeFunction('convertToInteractive',\n",
              "                                                     [key], {});\n",
              "          if (!dataTable) return;\n",
              "\n",
              "          const docLinkHtml = 'Like what you see? Visit the ' +\n",
              "            '<a target=\"_blank\" href=https://colab.research.google.com/notebooks/data_table.ipynb>data table notebook</a>'\n",
              "            + ' to learn more about interactive tables.';\n",
              "          element.innerHTML = '';\n",
              "          dataTable['output_type'] = 'display_data';\n",
              "          await google.colab.output.renderOutput(dataTable, element);\n",
              "          const docLink = document.createElement('div');\n",
              "          docLink.innerHTML = docLinkHtml;\n",
              "          element.appendChild(docLink);\n",
              "        }\n",
              "      </script>\n",
              "    </div>\n",
              "  </div>\n",
              "  "
            ]
          },
          "metadata": {},
          "execution_count": 416
        }
      ]
    },
    {
      "cell_type": "code",
      "source": [
        "results.plot(y=['Actual', 'Predicted'])\n"
      ],
      "metadata": {
        "colab": {
          "base_uri": "https://localhost:8080/",
          "height": 289
        },
        "id": "_GROlxLrd-9n",
        "outputId": "fd46390d-de68-4642-dbee-1d00433c9911"
      },
      "execution_count": null,
      "outputs": [
        {
          "output_type": "execute_result",
          "data": {
            "text/plain": [
              "<AxesSubplot:xlabel='Date'>"
            ]
          },
          "metadata": {},
          "execution_count": 417
        },
        {
          "output_type": "display_data",
          "data": {
            "text/plain": [
              "<Figure size 432x288 with 1 Axes>"
            ],
            "image/png": "[encoded data removed]"
          },
          "metadata": {
            "needs_background": "light"
          }
        }
      ]
    },
    {
      "cell_type": "code",
      "source": [
        "# import matplotlib.pyplot as plt\n",
        "\n",
        "# coefs = pd.DataFrame(\n",
        "#    base_model.model.coef_,\n",
        "#    columns=['Coefficients'], index=x_train.columns\n",
        "# )\n",
        "\n",
        "# coefs.plot(kind='barh', figsize=(9, 7))\n",
        "# plt.title('Linear model')\n",
        "# plt.axvline(x=0, color='.5')\n",
        "# plt.subplots_adjust(left=.3)"
      ],
      "metadata": {
        "id": "wyrncpiCUhy0"
      },
      "execution_count": null,
      "outputs": []
    },
    {
      "cell_type": "code",
      "source": [
        "def getPredPrices(df_prices_test, results):\n",
        "  predicted = []\n",
        "  # predicted.append(None)\n",
        "  print(len(results))\n",
        "  for i in range(1, len(results)):\n",
        "    predicted.append(df_prices_test.iloc[i-1][target] * (1 + results.iloc[i]['Predicted']))\n",
        "  df_prices_test = df_prices_test.iloc[1:, :]\n",
        "  df_prices_test['Predicted'] = predicted\n",
        "  return df_prices_test\n"
      ],
      "metadata": {
        "id": "DqOKQdTvwYCF"
      },
      "execution_count": null,
      "outputs": []
    },
    {
      "cell_type": "code",
      "source": [
        "def makeSignals(df_prices_test):\n",
        "  differences = []\n",
        "  for i in range(len(df_prices_test)):\n",
        "    differences.append(df_prices_test.iloc[i]['Predicted'] - df_prices_test.iloc[i][target])\n",
        "  df_prices_test['Difference'] = differences\n",
        "\n",
        "  signals = []\n",
        "  lookback = 20\n",
        "  sum = 0\n",
        "  mean = 0\n",
        "  bollinger_threshold = 0.6\n",
        "  for i in range(len(df_prices_test)):\n",
        "    sum = sum + df_prices_test.iloc[i]['Difference']\n",
        "    if i < 20:\n",
        "      signals.append(0)\n",
        "      continue\n",
        "    sum = sum - df_prices_test.iloc[i-lookback]['Difference']\n",
        "    mean = sum/lookback\n",
        "    std = np.std(df_prices_test['Difference'][i-lookback : i])\n",
        "    threshold = mean + bollinger_threshold*std\n",
        "    if df_prices_test.iloc[i]['Difference'] > threshold:\n",
        "      signals.append(1)\n",
        "    else:\n",
        "      signals.append(0)\n",
        "  df_prices_test['Signal'] = signals\n",
        "  return df_prices_test"
      ],
      "metadata": {
        "id": "SMVoT2m7LJl_"
      },
      "execution_count": null,
      "outputs": []
    },
    {
      "cell_type": "code",
      "source": [
        "df_prices_test = getPredPrices(df_prices_test, results)\n",
        "df_prices_test = makeSignals(df_prices_test)"
      ],
      "metadata": {
        "colab": {
          "base_uri": "https://localhost:8080/"
        },
        "id": "Eimz0LUxFjqu",
        "outputId": "0d1a9c42-de44-45fb-fed7-a960a4304711"
      },
      "execution_count": null,
      "outputs": [
        {
          "output_type": "stream",
          "name": "stdout",
          "text": [
            "1308\n"
          ]
        },
        {
          "output_type": "stream",
          "name": "stderr",
          "text": [
            "<ipython-input-419-3b4a2fe13966>:8: SettingWithCopyWarning: \n",
            "A value is trying to be set on a copy of a slice from a DataFrame.\n",
            "Try using .loc[row_indexer,col_indexer] = value instead\n",
            "\n",
            "See the caveats in the documentation: https://pandas.pydata.org/pandas-docs/stable/user_guide/indexing.html#returning-a-view-versus-a-copy\n",
            "  df_prices_test['Predicted'] = predicted\n"
          ]
        }
      ]
    },
    {
      "cell_type": "code",
      "source": [
        "# df_prices_test.plot(y=['BBH', 'Predicted'])\n",
        "df_prices_test2 = df_prices_test.iloc[200:300, :]\n",
        "df_prices_test2.plot(y=[target, 'Predicted'])\n"
      ],
      "metadata": {
        "colab": {
          "base_uri": "https://localhost:8080/",
          "height": 295
        },
        "id": "OpsMlHX1zcO7",
        "outputId": "4bae793e-f3b2-4cea-ea2a-09abed4674b3"
      },
      "execution_count": null,
      "outputs": [
        {
          "output_type": "execute_result",
          "data": {
            "text/plain": [
              "<AxesSubplot:xlabel='Date'>"
            ]
          },
          "metadata": {},
          "execution_count": 422
        },
        {
          "output_type": "display_data",
          "data": {
            "text/plain": [
              "<Figure size 432x288 with 1 Axes>"
            ],
            "image/png": "[encoded data removed]"
          },
          "metadata": {
            "needs_background": "light"
          }
        }
      ]
    },
    {
      "cell_type": "markdown",
      "source": [
        "# Backtesting Base Strategy"
      ],
      "metadata": {
        "id": "q3xtQxL0TNCM"
      }
    },
    {
      "cell_type": "code",
      "source": [
        "def getInfo(df, actual, predicted):\n",
        "  tp = 0\n",
        "  fp = 0\n",
        "  p = 0\n",
        "  n = 0\n",
        "  correctness = []\n",
        "  for i in range(len(df)):\n",
        "    if df.iloc[i][predicted] == 1:\n",
        "      if df.iloc[i][actual] == 1:\n",
        "        tp = tp + 1\n",
        "        p = p + 1\n",
        "        correctness.append(1)\n",
        "      else:\n",
        "        fp = fp + 1\n",
        "        n = n + 1\n",
        "        correctness.append(0)\n",
        "    else:\n",
        "      if df.iloc[i][actual] == 1:\n",
        "        # tp = tp + 1\n",
        "        p = p + 1\n",
        "        correctness.append(0)\n",
        "      else:\n",
        "        # fp = fp + 1\n",
        "        n = n + 1\n",
        "        correctness.append(1)\n",
        "\n",
        "  # df_prices_test.drop(df_prices_test.tail(holding).index, inplace = True)\n",
        "  # df_prices_test['Labels'] = correctness\n",
        "\n",
        "  tpr = tp/p\n",
        "  fpr = fp/n\n",
        "\n",
        "  print('tpr', tpr)\n",
        "  print('fpr', fpr)\n",
        "  print('actual predicted num')\n",
        "  print('1 1', tp)\n",
        "  print('1 0', (p - tp))\n",
        "  print('0 1', fp)\n",
        "  print('0 0', (n - fp))\n",
        "  return tpr, fpr"
      ],
      "metadata": {
        "id": "xNqX10k6J_iR"
      },
      "execution_count": null,
      "outputs": []
    },
    {
      "cell_type": "code",
      "source": [
        "def backtest(df_prices_test, holding, metalabeled = False):\n",
        "  i = 0\n",
        "  start = 100\n",
        "  cash = start\n",
        "  sharesHolding = 0\n",
        "  # holding = 10\n",
        "  portfolio = []\n",
        "  spyHold = []\n",
        "  bbhHold = []\n",
        "  dailyRet = []\n",
        "  dailyRet.append(0)\n",
        "  endHold = 0\n",
        "  spyShares = cash/df_prices_test.iloc[0]['SPY']\n",
        "  bbhShares = cash/df_prices_test.iloc[0][target]\n",
        "  count = 0\n",
        "\n",
        "  neg_returns = []\n",
        "  peak = start\n",
        "  max_drawdown = 0\n",
        "\n",
        "  for i in range(len(df_prices_test)):\n",
        "    portfolioToday = cash + sharesHolding * df_prices_test.iloc[i][target]\n",
        "    portfolio.append(portfolioToday)\n",
        "    peak = max(peak, portfolioToday)\n",
        "    max_drawdown = min(max_drawdown, portfolioToday/peak-1)\n",
        "    if i > 0:\n",
        "      ret = (portfolio[len(portfolio) - 1] - portfolio[len(portfolio) - 2])/portfolio[len(portfolio) - 2]\n",
        "      dailyRet.append(ret)\n",
        "      if ret < 0:\n",
        "        neg_returns.append(ret)\n",
        "    spyHold.append(spyShares * df_prices_test.iloc[i]['SPY'])\n",
        "    bbhHold.append(bbhShares * df_prices_test.iloc[i][target])\n",
        "    if i < endHold:\n",
        "      continue\n",
        "    if i == endHold:\n",
        "      cash = cash + sharesHolding * df_prices_test.iloc[i][target]\n",
        "      sharesHolding = 0\n",
        "    if df_prices_test.iloc[i]['Signal'] == 1:\n",
        "      if metalabeled and df_prices_test.iloc[i]['Signal2'] != 1:\n",
        "        continue\n",
        "      count = count + 1\n",
        "      sharesHolding = sharesHolding + cash/df_prices_test.iloc[i][target]\n",
        "      # print(\"day\", i)\n",
        "      cash = 0\n",
        "      endHold = i + holding\n",
        "\n",
        "  df_prices_test['Portfolio'] = portfolio\n",
        "  df_prices_test['SPYHold'] = spyHold\n",
        "  df_prices_test['Target'] = bbhHold\n",
        "  df_prices_test['Daily Returns'] = dailyRet\n",
        "\n",
        "  totalRet = (df_prices_test.iloc[len(df_prices_test) - 1]['Portfolio'] - start)/start\n",
        "  rfr = 0.035\n",
        "  ratio_num = (np.mean(df_prices_test['Daily Returns']) + 1)**252-1 - rfr\n",
        "  sharpe = ratio_num/(np.std(df_prices_test['Daily Returns'])*(252**0.5))\n",
        "  sortino = ratio_num/(np.std(neg_returns)*(252**0.5))\n",
        "\n",
        "  return sharpe, max_drawdown, sortino\n",
        "  # sortino = ratio_num/(np.std(neg_pcts)*(252**0.5))\n",
        "  # sharpe = (totalRet - 0.035)/np.std(df_prices_test['Daily Returns'])\n"
      ],
      "metadata": {
        "id": "iRmWXcZDOmeu"
      },
      "execution_count": null,
      "outputs": []
    },
    {
      "cell_type": "code",
      "source": [
        "def getStats(df_prices_test, holding, signalCol = 'Signal'):\n",
        "  tp = 0\n",
        "  fp = 0\n",
        "  p = 0\n",
        "  n = 0\n",
        "  correctness = []\n",
        "  labels = []\n",
        "  actual = []\n",
        "  for i in range(len(df_prices_test) - holding):\n",
        "    price = df_prices_test.iloc[i][target]\n",
        "    forwardPrice = df_prices_test.iloc[i + holding][target]\n",
        "    if df_prices_test.iloc[i]['Signal'] == 1:\n",
        "      if price <= forwardPrice:\n",
        "        tp = tp + 1\n",
        "        p = p + 1\n",
        "        correctness.append(1)\n",
        "        labels.append(1)\n",
        "        actual.append(1)\n",
        "      else:\n",
        "        fp = fp + 1\n",
        "        n = n + 1\n",
        "        correctness.append(0)\n",
        "        labels.append(0)\n",
        "        actual.append(0)\n",
        "    else:\n",
        "      if price <= forwardPrice:\n",
        "        p = p + 1\n",
        "        correctness.append(0)\n",
        "        labels.append(0)\n",
        "        actual.append(1)\n",
        "      else:\n",
        "        n = n + 1\n",
        "        correctness.append(1)\n",
        "        labels.append(0)\n",
        "        actual.append(0)\n",
        "\n",
        "  df_prices_test.drop(df_prices_test.tail(holding).index, inplace = True)\n",
        "  df_prices_test['Labels'] = labels\n",
        "  df_prices_test['ActualSignal'] = actual\n",
        "\n",
        "  tpr = tp/p\n",
        "  fpr = fp/n\n",
        "\n",
        "  print('tpr', tpr)\n",
        "  print('fpr', fpr)\n",
        "  return tpr, fpr"
      ],
      "metadata": {
        "id": "ekYihhHXOlVs"
      },
      "execution_count": null,
      "outputs": []
    },
    {
      "cell_type": "code",
      "source": [
        "sharpe = backtest(df_prices_test, 2)\n",
        "# print(totalRet, ratio_num)\n",
        "print('sharpe: ', sharpe)\n",
        "\n",
        "tpr, fpr = getStats(df_prices_test, 2)\n",
        "# print(count, \" trades\")"
      ],
      "metadata": {
        "colab": {
          "base_uri": "https://localhost:8080/"
        },
        "id": "msYhL5YBOa2S",
        "outputId": "6e190ea1-eeb4-452d-dc85-da57fb48dfb8"
      },
      "execution_count": null,
      "outputs": [
        {
          "output_type": "stream",
          "name": "stdout",
          "text": [
            "sharpe:  (0.35094247020605207, -0.24512999169753302, 0.34510723506307384)\n",
            "tpr 0.28064992614475626\n",
            "fpr 0.27229299363057324\n"
          ]
        }
      ]
    },
    {
      "cell_type": "code",
      "source": [
        "getInfo(df_prices_test, 'ActualSignal', 'Signal')"
      ],
      "metadata": {
        "colab": {
          "base_uri": "https://localhost:8080/"
        },
        "id": "rder3NrOQVFI",
        "outputId": "55ecda3b-5654-4310-d452-68d1e47e8371"
      },
      "execution_count": null,
      "outputs": [
        {
          "output_type": "stream",
          "name": "stdout",
          "text": [
            "tpr 0.28064992614475626\n",
            "fpr 0.27229299363057324\n",
            "actual predicted num\n",
            "1 1 190\n",
            "1 0 487\n",
            "0 1 171\n",
            "0 0 457\n"
          ]
        },
        {
          "output_type": "execute_result",
          "data": {
            "text/plain": [
              "(0.28064992614475626, 0.27229299363057324)"
            ]
          },
          "metadata": {},
          "execution_count": 427
        }
      ]
    },
    {
      "cell_type": "code",
      "source": [
        "df_prices_test.plot(y=['Portfolio', 'Target'])"
      ],
      "metadata": {
        "colab": {
          "base_uri": "https://localhost:8080/"
        },
        "id": "jrLyC8AqoTsa",
        "outputId": "fb58b1c9-855f-49a8-9b88-c6e9ce9e75fa"
      },
      "execution_count": null,
      "outputs": [
        {
          "output_type": "execute_result",
          "data": {
            "text/plain": [
              "<AxesSubplot:xlabel='Date'>"
            ]
          },
          "metadata": {},
          "execution_count": 428
        },
        {
          "output_type": "display_data",
          "data": {
            "text/plain": [
              "<Figure size 432x288 with 1 Axes>"
            ],
            "image/png": "[encoded data removed]"
          },
          "metadata": {
            "needs_background": "light"
          }
        }
      ]
    },
    {
      "cell_type": "markdown",
      "source": [
        "# Meta-labeling"
      ],
      "metadata": {
        "id": "5e6zTavVVl6G"
      }
    },
    {
      "cell_type": "code",
      "source": [
        "def getMetalabelModel(df):\n",
        "  # df2 = df.drop(columns = removeCols, inplace = False)\n",
        "  x_train = df.drop(columns = ['Labels', target])\n",
        "  y_train = df['Labels']\n",
        "  classifier = RandomForestClassifier(n_estimators =100, criterion = 'entropy')\n",
        "  classifier.fit(x_train, y_train)\n",
        "  return classifier\n",
        "\n"
      ],
      "metadata": {
        "id": "c7s1G6vJa1f3"
      },
      "execution_count": null,
      "outputs": []
    },
    {
      "cell_type": "code",
      "source": [
        "def runBaseModel(x_test, y_test):\n",
        "  y_pred = base_model.predict(x_test)\n",
        "  results = pd.DataFrame()\n",
        "  results['Actual'] = y_test\n",
        "  results['Predicted'] = y_pred.tolist()\n",
        "  return results"
      ],
      "metadata": {
        "id": "9Fgj2slz9MA3"
      },
      "execution_count": null,
      "outputs": []
    },
    {
      "cell_type": "code",
      "source": [
        "#First, train metalabel model\n",
        "base_test.head()\n",
        "print(len(base_test))\n",
        "base_test.dropna(axis=0, inplace = True)\n",
        "print(len(base_test))\n",
        "meta_train = base_test.iloc[1:, :]\n",
        "meta_train['Signal'] = df_prices_test['Signal']\n",
        "meta_train['Labels'] = df_prices_test['Labels']\n",
        "print(len(meta_train))\n",
        "meta_train.dropna(axis=0, inplace = True)\n",
        "print(len(meta_train))\n",
        "metaModel = getMetalabelModel(meta_train)\n",
        "# meta_train.head()"
      ],
      "metadata": {
        "id": "WUDh3T_fMEj1",
        "colab": {
          "base_uri": "https://localhost:8080/"
        },
        "outputId": "6b1c1bb3-05e3-4fbc-edca-a2921c8bc7ac"
      },
      "execution_count": null,
      "outputs": [
        {
          "output_type": "stream",
          "name": "stdout",
          "text": [
            "1308\n",
            "1308\n",
            "1307\n",
            "1305\n"
          ]
        },
        {
          "output_type": "stream",
          "name": "stderr",
          "text": [
            "/usr/local/lib/python3.8/dist-packages/pandas/util/_decorators.py:311: SettingWithCopyWarning: \n",
            "A value is trying to be set on a copy of a slice from a DataFrame\n",
            "\n",
            "See the caveats in the documentation: https://pandas.pydata.org/pandas-docs/stable/user_guide/indexing.html#returning-a-view-versus-a-copy\n",
            "  return func(*args, **kwargs)\n",
            "<ipython-input-431-df8fb9d24cd5>:7: SettingWithCopyWarning: \n",
            "A value is trying to be set on a copy of a slice from a DataFrame.\n",
            "Try using .loc[row_indexer,col_indexer] = value instead\n",
            "\n",
            "See the caveats in the documentation: https://pandas.pydata.org/pandas-docs/stable/user_guide/indexing.html#returning-a-view-versus-a-copy\n",
            "  meta_train['Signal'] = df_prices_test['Signal']\n",
            "<ipython-input-431-df8fb9d24cd5>:8: SettingWithCopyWarning: \n",
            "A value is trying to be set on a copy of a slice from a DataFrame.\n",
            "Try using .loc[row_indexer,col_indexer] = value instead\n",
            "\n",
            "See the caveats in the documentation: https://pandas.pydata.org/pandas-docs/stable/user_guide/indexing.html#returning-a-view-versus-a-copy\n",
            "  meta_train['Labels'] = df_prices_test['Labels']\n"
          ]
        }
      ]
    },
    {
      "cell_type": "code",
      "source": [
        "#Generate signals of base model\n",
        "# x_test = df_prices_metatest.drop(columns = [target])\n",
        "# y_test = df_prices_metatest[target]\n",
        "x_test = df_test.drop(columns = [target])\n",
        "y_test = df_test[target]\n",
        "\n",
        "results = runBaseModel(x_test, y_test)\n",
        "df_prices_metatest = getPredPrices(df_prices_metatest, results)\n",
        "df_prices_metatest = makeSignals(df_prices_metatest)\n",
        "print(len(df_prices_metatest))\n"
      ],
      "metadata": {
        "id": "aUHSpD5ZFJo2",
        "colab": {
          "base_uri": "https://localhost:8080/"
        },
        "outputId": "1aab874c-c1a9-4321-d827-0e0606d56533"
      },
      "execution_count": null,
      "outputs": [
        {
          "output_type": "stream",
          "name": "stdout",
          "text": [
            "655\n"
          ]
        },
        {
          "output_type": "stream",
          "name": "stderr",
          "text": [
            "<ipython-input-419-3b4a2fe13966>:8: SettingWithCopyWarning: \n",
            "A value is trying to be set on a copy of a slice from a DataFrame.\n",
            "Try using .loc[row_indexer,col_indexer] = value instead\n",
            "\n",
            "See the caveats in the documentation: https://pandas.pydata.org/pandas-docs/stable/user_guide/indexing.html#returning-a-view-versus-a-copy\n",
            "  df_prices_test['Predicted'] = predicted\n"
          ]
        },
        {
          "output_type": "stream",
          "name": "stdout",
          "text": [
            "654\n"
          ]
        }
      ]
    },
    {
      "cell_type": "code",
      "source": [
        "#Run metalabeling model\n",
        "df_test = df_test.iloc[1:, :]\n",
        "df_test['Signal'] = df_prices_metatest['Signal']\n",
        "# df_test['Label'] = df_prices_metatest['Label']\n",
        "x_test = df_test.drop(columns = [target])\n",
        "# y_test = df_test['Label']\n",
        "\n",
        "y_pred = metaModel.predict_proba(x_test)\n",
        "results = pd.DataFrame()\n",
        "# results['Actual'] = y_test\n",
        "results['Probabilities'] = y_pred.tolist()\n",
        "# results['Predicted'] = y_pred.tolist()\n",
        "# results.head(20)\n",
        "# print(results.iloc[30:50, :])\n",
        "df_results = df_prices_metatest.copy()"
      ],
      "metadata": {
        "id": "CJu2T5LJPSAo",
        "colab": {
          "base_uri": "https://localhost:8080/"
        },
        "outputId": "01977892-d8ce-4266-8bde-58e8a3b1979e"
      },
      "execution_count": null,
      "outputs": [
        {
          "output_type": "stream",
          "name": "stderr",
          "text": [
            "<ipython-input-433-2ef79f4dcc47>:3: SettingWithCopyWarning: \n",
            "A value is trying to be set on a copy of a slice from a DataFrame.\n",
            "Try using .loc[row_indexer,col_indexer] = value instead\n",
            "\n",
            "See the caveats in the documentation: https://pandas.pydata.org/pandas-docs/stable/user_guide/indexing.html#returning-a-view-versus-a-copy\n",
            "  df_test['Signal'] = df_prices_metatest['Signal']\n"
          ]
        }
      ]
    },
    {
      "cell_type": "code",
      "source": [
        "#Backtest non metlabeled model\n",
        "sharpe, max_drawdown, sortino = backtest(df_prices_metatest, 2)\n",
        "print('sharpe: ', sharpe, 'max_drawdown', max_drawdown, 'sortino', sortino)\n",
        "tpr, fpr = getStats(df_prices_metatest, 2)\n",
        "df_prices_metatest.plot(y=['Portfolio', 'Target'])\n"
      ],
      "metadata": {
        "colab": {
          "base_uri": "https://localhost:8080/",
          "height": 348
        },
        "id": "Q1DmmZ-eI2g3",
        "outputId": "7b8e7962-4dc7-454b-f458-dd36901b8467"
      },
      "execution_count": null,
      "outputs": [
        {
          "output_type": "stream",
          "name": "stdout",
          "text": [
            "sharpe:  0.6250057049639367 max_drawdown -0.2441053512105381 sortino 0.638115387816081\n",
            "tpr 0.28023598820059\n",
            "fpr 0.21405750798722045\n"
          ]
        },
        {
          "output_type": "execute_result",
          "data": {
            "text/plain": [
              "<AxesSubplot:xlabel='Date'>"
            ]
          },
          "metadata": {},
          "execution_count": 434
        },
        {
          "output_type": "display_data",
          "data": {
            "text/plain": [
              "<Figure size 432x288 with 1 Axes>"
            ],
            "image/png": "[encoded data removed]"
          },
          "metadata": {
            "needs_background": "light"
          }
        }
      ]
    },
    {
      "cell_type": "code",
      "source": [
        "getInfo(df_prices_metatest, 'ActualSignal', 'Signal')"
      ],
      "metadata": {
        "colab": {
          "base_uri": "https://localhost:8080/"
        },
        "id": "enCk4qnbO61X",
        "outputId": "385c4311-89c6-4c6d-8e37-a7f08db9b67c"
      },
      "execution_count": null,
      "outputs": [
        {
          "output_type": "stream",
          "name": "stdout",
          "text": [
            "tpr 0.28023598820059\n",
            "fpr 0.21405750798722045\n",
            "actual predicted num\n",
            "1 1 95\n",
            "1 0 244\n",
            "0 1 67\n",
            "0 0 246\n"
          ]
        },
        {
          "output_type": "execute_result",
          "data": {
            "text/plain": [
              "(0.28023598820059, 0.21405750798722045)"
            ]
          },
          "metadata": {},
          "execution_count": 435
        }
      ]
    },
    {
      "cell_type": "code",
      "source": [
        "def backtestMeta(df_prices_test, holding,  metaThresh, metalabeled = True):\n",
        "  # meta_threshold = 0.45\n",
        "  i = 0\n",
        "  start = 100\n",
        "  cash = start\n",
        "  sharesHolding = 0\n",
        "  # holding = 10\n",
        "  portfolio = []\n",
        "  spyHold = []\n",
        "  bbhHold = []\n",
        "  dailyRet = []\n",
        "  dailyRet.append(0)\n",
        "  endHold = 0\n",
        "  spyShares = cash/df_prices_test.iloc[0]['SPY']\n",
        "  bbhShares = cash/df_prices_test.iloc[0][target]\n",
        "  count = 0\n",
        "\n",
        "  neg_returns = []\n",
        "  peak = start\n",
        "  max_drawdown = 0\n",
        "\n",
        "  sumWin = 0\n",
        "  winCount = 0\n",
        "  sumLoss = 0\n",
        "  lossCount = 0\n",
        "  for i in range(len(df_prices_test)):\n",
        "    if i >= holding:\n",
        "      change = df_prices_test.iloc[i][target] - df_prices_test.iloc[i-holding][target]\n",
        "      if change < 0:\n",
        "        sumLoss = sumLoss + change\n",
        "        lossCount = lossCount + 1\n",
        "      else:\n",
        "        sumWin = sumWin + change\n",
        "        winCount = winCount + 1\n",
        "    portfolioToday = cash + sharesHolding * df_prices_test.iloc[i][target]\n",
        "    portfolio.append(portfolioToday)\n",
        "    peak = max(peak, portfolioToday)\n",
        "    max_drawdown = min(max_drawdown, portfolioToday/peak-1)\n",
        "    if i > 0:\n",
        "      ret = (portfolio[len(portfolio) - 1] - portfolio[len(portfolio) - 2])/portfolio[len(portfolio) - 2]\n",
        "      dailyRet.append(ret)\n",
        "      if ret < 0:\n",
        "        neg_returns.append(ret)\n",
        "    spyHold.append(spyShares * df_prices_test.iloc[i]['SPY'])\n",
        "    bbhHold.append(bbhShares * df_prices_test.iloc[i][target])\n",
        "    if i < endHold:\n",
        "      continue\n",
        "    if i == endHold:\n",
        "      cash = cash + sharesHolding * df_prices_test.iloc[i][target]\n",
        "      sharesHolding = 0\n",
        "    if df_prices_test.iloc[i]['Signal'] == 1:\n",
        "      if metalabeled and (df_prices_test.iloc[i]['Metalabeled'])[1] < metaThresh:\n",
        "        continue\n",
        "      count = count + 1\n",
        "      # tradingCash = ((df_prices_test.iloc[i]['Metalabeled'])[1]/0.50) * cash\n",
        "      p = (df_prices_test.iloc[i]['Metalabeled'])[1]\n",
        "      if p < 0.5:\n",
        "        p = 0.5\n",
        "      b = (sumWin/winCount)/(sumLoss/lossCount)\n",
        "      tradingCash =  (p- ((1 - p)/b)) * cash\n",
        "      if tradingCash > cash:\n",
        "        tradingCash = cash\n",
        "      # tradingCash = cash\n",
        "      sharesHolding = sharesHolding + tradingCash/df_prices_test.iloc[i][target]\n",
        "      # print(\"day\", i)\n",
        "      cash = cash - tradingCash\n",
        "      endHold = i + holding\n",
        "\n",
        "  df_prices_test['Portfolio'] = portfolio\n",
        "  df_prices_test['SPYHold'] = spyHold\n",
        "  df_prices_test['Target'] = bbhHold\n",
        "  df_prices_test['Daily Returns'] = dailyRet\n",
        "  print('count', count)\n",
        "  totalRet = (df_prices_test.iloc[len(df_prices_test) - 1]['Portfolio'] - start)/start\n",
        "  print(\"total ret\",totalRet)\n",
        "  \n",
        "  dates = list(df_prices_test.index.values)\n",
        "  rounded = np.array(dates, dtype='datetime64[D]')\n",
        "  time = rounded[len(rounded) - 1] - rounded[0]\n",
        "  days = time/np.timedelta64(1, 'D')\n",
        "  years = days/365.0\n",
        "\n",
        "  rfr = 0.035\n",
        "  ratio_num = (np.mean(df_prices_test['Daily Returns'])+1)**252-1 - rfr\n",
        "  print('avg daily returns', np.mean(df_prices_test['Daily Returns']))\n",
        "  print('ratio num', ratio_num)\n",
        "  print(\"rfr\", rfr)\n",
        "  sharpe = ratio_num/(np.std(df_prices_test['Daily Returns'])*(252**0.5))\n",
        "  sortino = ratio_num/(np.std(neg_returns)*(252**0.5))\n",
        "\n",
        "  return sharpe, max_drawdown,  sortino\n",
        "  # sortino = ratio_num/(np.std(neg_pcts)*(252**0.5))\n",
        "  # sharpe = (totalRet - 0.035)/np.std(df_prices_test['Daily Returns'])\n"
      ],
      "metadata": {
        "id": "BGLb1i0sf4yX"
      },
      "execution_count": null,
      "outputs": []
    },
    {
      "cell_type": "code",
      "source": [
        "print(len(df_prices_metatest))\n",
        "print(len(y_pred))\n",
        "df_results['Metalabeled'] = y_pred.tolist()\n",
        "meta_threshold = 0.45\n",
        "\n",
        "metaSignals = []\n",
        "actual = []\n",
        "for i in range(len(df_results)):\n",
        "  if df_results.iloc[i]['Signal'] == 1 and (df_results.iloc[i]['Metalabeled'])[1] >= meta_threshold:\n",
        "    metaSignals.append(1)\n",
        "  else:\n",
        "    metaSignals.append(0)\n",
        "  if i >= len(df_results) - 2:\n",
        "    actual.append(0)\n",
        "    continue\n",
        "  if df_results.iloc[i][target] <= df_results.iloc[i + 2][target]:\n",
        "    actual.append(1)\n",
        "  else:\n",
        "    actual.append(0)\n",
        "df_results['Actual'] = actual\n",
        "df_results['Metasignal'] = metaSignals\n",
        "getInfo(df_results, 'Actual', 'Metasignal')\n",
        "\n",
        "\n",
        "sharpe, max_drawdown, sortino = backtestMeta(df_results, 2, meta_threshold, metalabeled = True)\n",
        "print('sharpe: ', sharpe, 'max_drawdown', max_drawdown, 'sortino', sortino)\n",
        "# tpr, fpr = getStats(df_prices_metatest, 10)\n",
        "getInfo(df_results, 'Actual', 'Metasignal')\n",
        "df_results.plot(y=['Portfolio', 'Target'])\n"
      ],
      "metadata": {
        "colab": {
          "base_uri": "https://localhost:8080/",
          "height": 688
        },
        "id": "tqzYxj2IibhT",
        "outputId": "6d769954-590b-4e84-b25a-201c575a64e8"
      },
      "execution_count": null,
      "outputs": [
        {
          "output_type": "stream",
          "name": "stdout",
          "text": [
            "652\n",
            "654\n",
            "tpr 0.19174041297935104\n",
            "fpr 0.10793650793650794\n",
            "actual predicted num\n",
            "1 1 65\n",
            "1 0 274\n",
            "0 1 34\n",
            "0 0 281\n",
            "count 87\n",
            "total ret 0.4603086829415898\n",
            "avg daily returns 0.0006095492068916153\n",
            "ratio num 0.13097728175392112\n",
            "rfr 0.035\n",
            "sharpe:  1.0557701070759982 max_drawdown -0.16489267331165114 sortino 0.8951715486896277\n",
            "tpr 0.19174041297935104\n",
            "fpr 0.10793650793650794\n",
            "actual predicted num\n",
            "1 1 65\n",
            "1 0 274\n",
            "0 1 34\n",
            "0 0 281\n"
          ]
        },
        {
          "output_type": "execute_result",
          "data": {
            "text/plain": [
              "<AxesSubplot:xlabel='Date'>"
            ]
          },
          "metadata": {},
          "execution_count": 437
        },
        {
          "output_type": "display_data",
          "data": {
            "text/plain": [
              "<Figure size 432x288 with 1 Axes>"
            ],
            "image/png": "[encoded data removed]"
          },
          "metadata": {
            "needs_background": "light"
          }
        }
      ]
    },
    {
      "cell_type": "code",
      "source": [
        "df_results['BaseModel'] = df_prices_metatest['Portfolio']\n",
        "# plt.figure(figsize=(10,6))\n",
        "df_results.plot(y=['Portfolio', 'Target', 'BaseModel'], label = ['Meta-labeled', 'BBH', 'Base Model'])\n"
      ],
      "metadata": {
        "colab": {
          "base_uri": "https://localhost:8080/",
          "height": 295
        },
        "id": "ZKif9-8-JIpk",
        "outputId": "0171b031-fa3d-424a-d0d0-47fb4e555bca"
      },
      "execution_count": null,
      "outputs": [
        {
          "output_type": "execute_result",
          "data": {
            "text/plain": [
              "<AxesSubplot:xlabel='Date'>"
            ]
          },
          "metadata": {},
          "execution_count": 438
        },
        {
          "output_type": "display_data",
          "data": {
            "text/plain": [
              "<Figure size 432x288 with 1 Axes>"
            ],
            "image/png": "[encoded data removed]"
          },
          "metadata": {
            "needs_background": "light"
          }
        }
      ]
    },
    {
      "cell_type": "code",
      "source": [
        "df_results.head()"
      ],
      "metadata": {
        "colab": {
          "base_uri": "https://localhost:8080/",
          "height": 609
        },
        "id": "CTOEC--oH0yV",
        "outputId": "dfb41708-9132-4ca3-d60e-27b46780a776"
      },
      "execution_count": null,
      "outputs": [
        {
          "output_type": "execute_result",
          "data": {
            "text/plain": [
              "                                  BBH        ILMN        AMGN        BMRN  \\\n",
              "Date                                                                        \n",
              "2020-05-29 00:00:00-04:00  156.319212  372.000000  206.915276  106.000000   \n",
              "2020-06-01 00:00:00-04:00  159.833684  361.140015  210.492603  106.510002   \n",
              "2020-06-02 00:00:00-04:00  158.348707  364.399994  207.650962  106.709999   \n",
              "2020-06-03 00:00:00-04:00  158.328890  366.049988  205.526684  108.339996   \n",
              "2020-06-04 00:00:00-04:00  156.933017  355.290009  203.025275  109.940002   \n",
              "\n",
              "                                 BIIB        VRTX        SGEN       GILD  \\\n",
              "Date                                                                       \n",
              "2020-05-29 00:00:00-04:00  300.980011  281.350006  154.919998  67.404456   \n",
              "2020-06-01 00:00:00-04:00  305.720001  285.420013  156.899994  67.137573   \n",
              "2020-06-02 00:00:00-04:00  300.279999  283.920013  159.470001  66.159026   \n",
              "2020-06-03 00:00:00-04:00  303.040009  283.720001  159.089996  66.167904   \n",
              "2020-06-04 00:00:00-04:00  302.989990  274.269989  154.050003  65.936628   \n",
              "\n",
              "                                 ICLR        INCY  ...  Difference  Signal  \\\n",
              "Date                                               ...                       \n",
              "2020-05-29 00:00:00-04:00  166.220001  101.209999  ...   -1.337153       0   \n",
              "2020-06-01 00:00:00-04:00  167.639999  101.699997  ...   -2.318879       0   \n",
              "2020-06-02 00:00:00-04:00  169.350006  101.120003  ...    1.209752       0   \n",
              "2020-06-03 00:00:00-04:00  170.940002  100.809998  ...    1.181888       0   \n",
              "2020-06-04 00:00:00-04:00  168.020004   98.190002  ...   -0.301583       0   \n",
              "\n",
              "                            Metalabeled  Actual  Metasignal  Portfolio  \\\n",
              "Date                                                                     \n",
              "2020-05-29 00:00:00-04:00  [0.97, 0.03]       1           0      100.0   \n",
              "2020-06-01 00:00:00-04:00  [0.99, 0.01]       0           0      100.0   \n",
              "2020-06-02 00:00:00-04:00  [0.96, 0.04]       0           0      100.0   \n",
              "2020-06-03 00:00:00-04:00  [0.98, 0.02]       0           0      100.0   \n",
              "2020-06-04 00:00:00-04:00  [0.94, 0.06]       0           0      100.0   \n",
              "\n",
              "                              SPYHold      Target Daily Returns  BaseModel  \n",
              "Date                                                                        \n",
              "2020-05-29 00:00:00-04:00  100.000000  100.000000           0.0      100.0  \n",
              "2020-06-01 00:00:00-04:00  100.383541  102.248266           0.0      100.0  \n",
              "2020-06-02 00:00:00-04:00  101.352218  101.298302           0.0      100.0  \n",
              "2020-06-03 00:00:00-04:00  102.572241  101.285625           0.0      100.0  \n",
              "2020-06-04 00:00:00-04:00  102.859886  100.392662           0.0      100.0  \n",
              "\n",
              "[5 rows x 26 columns]"
            ],
            "text/html": [
              "\n",
              "  <div id=\"df-0d484daf-19d5-4d1c-85a6-aab5dc638c95\">\n",
              "    <div class=\"colab-df-container\">\n",
              "      <div>\n",
              "<style scoped>\n",
              "    .dataframe tbody tr th:only-of-type {\n",
              "        vertical-align: middle;\n",
              "    }\n",
              "\n",
              "    .dataframe tbody tr th {\n",
              "        vertical-align: top;\n",
              "    }\n",
              "\n",
              "    .dataframe thead th {\n",
              "        text-align: right;\n",
              "    }\n",
              "</style>\n",
              "<table border=\"1\" class=\"dataframe\">\n",
              "  <thead>\n",
              "    <tr style=\"text-align: right;\">\n",
              "      <th></th>\n",
              "      <th>BBH</th>\n",
              "      <th>ILMN</th>\n",
              "      <th>AMGN</th>\n",
              "      <th>BMRN</th>\n",
              "      <th>BIIB</th>\n",
              "      <th>VRTX</th>\n",
              "      <th>SGEN</th>\n",
              "      <th>GILD</th>\n",
              "      <th>ICLR</th>\n",
              "      <th>INCY</th>\n",
              "      <th>...</th>\n",
              "      <th>Difference</th>\n",
              "      <th>Signal</th>\n",
              "      <th>Metalabeled</th>\n",
              "      <th>Actual</th>\n",
              "      <th>Metasignal</th>\n",
              "      <th>Portfolio</th>\n",
              "      <th>SPYHold</th>\n",
              "      <th>Target</th>\n",
              "      <th>Daily Returns</th>\n",
              "      <th>BaseModel</th>\n",
              "    </tr>\n",
              "    <tr>\n",
              "      <th>Date</th>\n",
              "      <th></th>\n",
              "      <th></th>\n",
              "      <th></th>\n",
              "      <th></th>\n",
              "      <th></th>\n",
              "      <th></th>\n",
              "      <th></th>\n",
              "      <th></th>\n",
              "      <th></th>\n",
              "      <th></th>\n",
              "      <th></th>\n",
              "      <th></th>\n",
              "      <th></th>\n",
              "      <th></th>\n",
              "      <th></th>\n",
              "      <th></th>\n",
              "      <th></th>\n",
              "      <th></th>\n",
              "      <th></th>\n",
              "      <th></th>\n",
              "      <th></th>\n",
              "    </tr>\n",
              "  </thead>\n",
              "  <tbody>\n",
              "    <tr>\n",
              "      <th>2020-05-29 00:00:00-04:00</th>\n",
              "      <td>156.319212</td>\n",
              "      <td>372.000000</td>\n",
              "      <td>206.915276</td>\n",
              "      <td>106.000000</td>\n",
              "      <td>300.980011</td>\n",
              "      <td>281.350006</td>\n",
              "      <td>154.919998</td>\n",
              "      <td>67.404456</td>\n",
              "      <td>166.220001</td>\n",
              "      <td>101.209999</td>\n",
              "      <td>...</td>\n",
              "      <td>-1.337153</td>\n",
              "      <td>0</td>\n",
              "      <td>[0.97, 0.03]</td>\n",
              "      <td>1</td>\n",
              "      <td>0</td>\n",
              "      <td>100.0</td>\n",
              "      <td>100.000000</td>\n",
              "      <td>100.000000</td>\n",
              "      <td>0.0</td>\n",
              "      <td>100.0</td>\n",
              "    </tr>\n",
              "    <tr>\n",
              "      <th>2020-06-01 00:00:00-04:00</th>\n",
              "      <td>159.833684</td>\n",
              "      <td>361.140015</td>\n",
              "      <td>210.492603</td>\n",
              "      <td>106.510002</td>\n",
              "      <td>305.720001</td>\n",
              "      <td>285.420013</td>\n",
              "      <td>156.899994</td>\n",
              "      <td>67.137573</td>\n",
              "      <td>167.639999</td>\n",
              "      <td>101.699997</td>\n",
              "      <td>...</td>\n",
              "      <td>-2.318879</td>\n",
              "      <td>0</td>\n",
              "      <td>[0.99, 0.01]</td>\n",
              "      <td>0</td>\n",
              "      <td>0</td>\n",
              "      <td>100.0</td>\n",
              "      <td>100.383541</td>\n",
              "      <td>102.248266</td>\n",
              "      <td>0.0</td>\n",
              "      <td>100.0</td>\n",
              "    </tr>\n",
              "    <tr>\n",
              "      <th>2020-06-02 00:00:00-04:00</th>\n",
              "      <td>158.348707</td>\n",
              "      <td>364.399994</td>\n",
              "      <td>207.650962</td>\n",
              "      <td>106.709999</td>\n",
              "      <td>300.279999</td>\n",
              "      <td>283.920013</td>\n",
              "      <td>159.470001</td>\n",
              "      <td>66.159026</td>\n",
              "      <td>169.350006</td>\n",
              "      <td>101.120003</td>\n",
              "      <td>...</td>\n",
              "      <td>1.209752</td>\n",
              "      <td>0</td>\n",
              "      <td>[0.96, 0.04]</td>\n",
              "      <td>0</td>\n",
              "      <td>0</td>\n",
              "      <td>100.0</td>\n",
              "      <td>101.352218</td>\n",
              "      <td>101.298302</td>\n",
              "      <td>0.0</td>\n",
              "      <td>100.0</td>\n",
              "    </tr>\n",
              "    <tr>\n",
              "      <th>2020-06-03 00:00:00-04:00</th>\n",
              "      <td>158.328890</td>\n",
              "      <td>366.049988</td>\n",
              "      <td>205.526684</td>\n",
              "      <td>108.339996</td>\n",
              "      <td>303.040009</td>\n",
              "      <td>283.720001</td>\n",
              "      <td>159.089996</td>\n",
              "      <td>66.167904</td>\n",
              "      <td>170.940002</td>\n",
              "      <td>100.809998</td>\n",
              "      <td>...</td>\n",
              "      <td>1.181888</td>\n",
              "      <td>0</td>\n",
              "      <td>[0.98, 0.02]</td>\n",
              "      <td>0</td>\n",
              "      <td>0</td>\n",
              "      <td>100.0</td>\n",
              "      <td>102.572241</td>\n",
              "      <td>101.285625</td>\n",
              "      <td>0.0</td>\n",
              "      <td>100.0</td>\n",
              "    </tr>\n",
              "    <tr>\n",
              "      <th>2020-06-04 00:00:00-04:00</th>\n",
              "      <td>156.933017</td>\n",
              "      <td>355.290009</td>\n",
              "      <td>203.025275</td>\n",
              "      <td>109.940002</td>\n",
              "      <td>302.989990</td>\n",
              "      <td>274.269989</td>\n",
              "      <td>154.050003</td>\n",
              "      <td>65.936628</td>\n",
              "      <td>168.020004</td>\n",
              "      <td>98.190002</td>\n",
              "      <td>...</td>\n",
              "      <td>-0.301583</td>\n",
              "      <td>0</td>\n",
              "      <td>[0.94, 0.06]</td>\n",
              "      <td>0</td>\n",
              "      <td>0</td>\n",
              "      <td>100.0</td>\n",
              "      <td>102.859886</td>\n",
              "      <td>100.392662</td>\n",
              "      <td>0.0</td>\n",
              "      <td>100.0</td>\n",
              "    </tr>\n",
              "  </tbody>\n",
              "</table>\n",
              "<p>5 rows × 26 columns</p>\n",
              "</div>\n",
              "      <button class=\"colab-df-convert\" onclick=\"convertToInteractive('df-0d484daf-19d5-4d1c-85a6-aab5dc638c95')\"\n",
              "              title=\"Convert this dataframe to an interactive table.\"\n",
              "              style=\"display:none;\">\n",
              "        \n",
              "  <svg xmlns=\"http://www.w3.org/2000/svg\" height=\"24px\"viewBox=\"0 0 24 24\"\n",
              "       width=\"24px\">\n",
              "    <path d=\"M0 0h24v24H0V0z\" fill=\"none\"/>\n",
              "    <path d=\"M18.56 5.44l.94 2.06.94-2.06 2.06-.94-2.06-.94-.94-2.06-.94 2.06-2.06.94zm-11 1L8.5 8.5l.94-2.06 2.06-.94-2.06-.94L8.5 2.5l-.94 2.06-2.06.94zm10 10l.94 2.06.94-2.06 2.06-.94-2.06-.94-.94-2.06-.94 2.06-2.06.94z\"/><path d=\"M17.41 7.96l-1.37-1.37c-.4-.4-.92-.59-1.43-.59-.52 0-1.04.2-1.43.59L10.3 9.45l-7.72 7.72c-.78.78-.78 2.05 0 2.83L4 21.41c.39.39.9.59 1.41.59.51 0 1.02-.2 1.41-.59l7.78-7.78 2.81-2.81c.8-.78.8-2.07 0-2.86zM5.41 20L4 18.59l7.72-7.72 1.47 1.35L5.41 20z\"/>\n",
              "  </svg>\n",
              "      </button>\n",
              "      \n",
              "  <style>\n",
              "    .colab-df-container {\n",
              "      display:flex;\n",
              "      flex-wrap:wrap;\n",
              "      gap: 12px;\n",
              "    }\n",
              "\n",
              "    .colab-df-convert {\n",
              "      background-color: #E8F0FE;\n",
              "      border: none;\n",
              "      border-radius: 50%;\n",
              "      cursor: pointer;\n",
              "      display: none;\n",
              "      fill: #1967D2;\n",
              "      height: 32px;\n",
              "      padding: 0 0 0 0;\n",
              "      width: 32px;\n",
              "    }\n",
              "\n",
              "    .colab-df-convert:hover {\n",
              "      background-color: #E2EBFA;\n",
              "      box-shadow: 0px 1px 2px rgba(60, 64, 67, 0.3), 0px 1px 3px 1px rgba(60, 64, 67, 0.15);\n",
              "      fill: #174EA6;\n",
              "    }\n",
              "\n",
              "    [theme=dark] .colab-df-convert {\n",
              "      background-color: #3B4455;\n",
              "      fill: #D2E3FC;\n",
              "    }\n",
              "\n",
              "    [theme=dark] .colab-df-convert:hover {\n",
              "      background-color: #434B5C;\n",
              "      box-shadow: 0px 1px 3px 1px rgba(0, 0, 0, 0.15);\n",
              "      filter: drop-shadow(0px 1px 2px rgba(0, 0, 0, 0.3));\n",
              "      fill: #FFFFFF;\n",
              "    }\n",
              "  </style>\n",
              "\n",
              "      <script>\n",
              "        const buttonEl =\n",
              "          document.querySelector('#df-0d484daf-19d5-4d1c-85a6-aab5dc638c95 button.colab-df-convert');\n",
              "        buttonEl.style.display =\n",
              "          google.colab.kernel.accessAllowed ? 'block' : 'none';\n",
              "\n",
              "        async function convertToInteractive(key) {\n",
              "          const element = document.querySelector('#df-0d484daf-19d5-4d1c-85a6-aab5dc638c95');\n",
              "          const dataTable =\n",
              "            await google.colab.kernel.invokeFunction('convertToInteractive',\n",
              "                                                     [key], {});\n",
              "          if (!dataTable) return;\n",
              "\n",
              "          const docLinkHtml = 'Like what you see? Visit the ' +\n",
              "            '<a target=\"_blank\" href=https://colab.research.google.com/notebooks/data_table.ipynb>data table notebook</a>'\n",
              "            + ' to learn more about interactive tables.';\n",
              "          element.innerHTML = '';\n",
              "          dataTable['output_type'] = 'display_data';\n",
              "          await google.colab.output.renderOutput(dataTable, element);\n",
              "          const docLink = document.createElement('div');\n",
              "          docLink.innerHTML = docLinkHtml;\n",
              "          element.appendChild(docLink);\n",
              "        }\n",
              "      </script>\n",
              "    </div>\n",
              "  </div>\n",
              "  "
            ]
          },
          "metadata": {},
          "execution_count": 439
        }
      ]
    },
    {
      "cell_type": "code",
      "source": [
        "signal = []\n",
        "for i in range(len(df_results)):\n",
        "  if (df_results.iloc[i]['Metalabeled'])[1] >= meta_threshold:\n",
        "    signal.append(1)\n",
        "  else:\n",
        "    signal.append(0)\n",
        "df_results['MetalabelSignal'] = signal\n",
        "df_results['ActualSignal'] = df_prices_metatest['ActualSignal']"
      ],
      "metadata": {
        "id": "wQlhJUKgNFd-"
      },
      "execution_count": null,
      "outputs": []
    },
    {
      "cell_type": "code",
      "source": [
        "getInfo(df_results, 'ActualSignal', 'MetalabelSignal')"
      ],
      "metadata": {
        "colab": {
          "base_uri": "https://localhost:8080/"
        },
        "id": "Q-AIJ2gvNgyH",
        "outputId": "3edb11ff-091a-44c1-df06-8884a9d9897e"
      },
      "execution_count": null,
      "outputs": [
        {
          "output_type": "stream",
          "name": "stdout",
          "text": [
            "tpr 0.19174041297935104\n",
            "fpr 0.10793650793650794\n",
            "actual predicted num\n",
            "1 1 65\n",
            "1 0 274\n",
            "0 1 34\n",
            "0 0 281\n"
          ]
        },
        {
          "output_type": "execute_result",
          "data": {
            "text/plain": [
              "(0.19174041297935104, 0.10793650793650794)"
            ]
          },
          "metadata": {},
          "execution_count": 441
        }
      ]
    }
  ]
}